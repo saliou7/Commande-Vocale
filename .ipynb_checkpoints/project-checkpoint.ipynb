{
 "cells": [
  {
   "cell_type": "code",
   "execution_count": 1,
   "metadata": {},
   "outputs": [],
   "source": [
    "from datasets import load_dataset\n",
    "import matplotlib.pyplot as plt\n",
    "import librosa.display\n",
    "import librosa\n",
    "import numpy as np\n",
    "import os\n",
    "from sklearn.preprocessing import LabelEncoder\n",
    "from sklearn.preprocessing import StandardScaler\n",
    "from sklearn.model_selection import train_test_split, cross_val_score, GridSearchCV\n",
    "from sklearn.svm import SVC, LinearSVC\n",
    "from sklearn.metrics import classification_report, confusion_matrix, accuracy_score\n",
    "from sklearn.linear_model import LogisticRegression\n",
    "from random import randint"
   ]
  },
  {
   "cell_type": "code",
   "execution_count": 2,
   "metadata": {},
   "outputs": [],
   "source": [
    "path = './data'\n",
    "dataset = load_dataset(\"speech_commands\", \"v0.01\", cache_dir=path)"
   ]
  },
  {
   "cell_type": "code",
   "execution_count": 3,
   "metadata": {},
   "outputs": [
    {
     "data": {
      "text/plain": [
       "DatasetDict({\n",
       "    train: Dataset({\n",
       "        features: ['file', 'audio', 'label', 'is_unknown', 'speaker_id', 'utterance_id'],\n",
       "        num_rows: 51093\n",
       "    })\n",
       "    validation: Dataset({\n",
       "        features: ['file', 'audio', 'label', 'is_unknown', 'speaker_id', 'utterance_id'],\n",
       "        num_rows: 6799\n",
       "    })\n",
       "    test: Dataset({\n",
       "        features: ['file', 'audio', 'label', 'is_unknown', 'speaker_id', 'utterance_id'],\n",
       "        num_rows: 3081\n",
       "    })\n",
       "})"
      ]
     },
     "execution_count": 3,
     "metadata": {},
     "output_type": "execute_result"
    }
   ],
   "source": [
    "dataset"
   ]
  },
  {
   "cell_type": "code",
   "execution_count": 4,
   "metadata": {},
   "outputs": [
    {
     "data": {
      "image/png": "[encoded data removed]",
      "text/plain": [
       "<Figure size 1000x500 with 1 Axes>"
      ]
     },
     "metadata": {},
     "output_type": "display_data"
    }
   ],
   "source": [
    "# Créer une liste de tous les labels\n",
    "labels = [data['label'] for data in dataset['train']]\n",
    "\n",
    "# Dessiner l'histogramme\n",
    "plt.figure(figsize=(10, 5))\n",
    "plt.hist(labels, bins=len(set(labels)), color='blue', edgecolor='black')\n",
    "plt.title('Distribution des Labels dans le Dataset d\\'Entraînement')\n",
    "plt.xlabel('Labels')\n",
    "plt.ylabel('Nombre d\\'Échantillons')\n",
    "plt.xticks(rotation=90)\n",
    "plt.show()\n"
   ]
  },
  {
   "cell_type": "code",
   "execution_count": 4,
   "metadata": {},
   "outputs": [],
   "source": [
    "def extract_features(audio, sr=16000, n_mfcc=40, max_pad_len=49):\n",
    "    mfccs = librosa.feature.mfcc(y=audio, sr=sr, n_mfcc=n_mfcc)\n",
    "    pad_width = max_pad_len - mfccs.shape[1]\n",
    "    if pad_width > 0:  # Si le nombre de colonnes dans mfccs est moins que max_pad_len\n",
    "        mfccs = np.pad(mfccs, pad_width=((0, 0), (0, pad_width)), mode='constant')\n",
    "    else:  # Si le nombre de colonnes dans mfccs est plus que max_pad_len\n",
    "        mfccs = mfccs[:, :max_pad_len]\n",
    "    return mfccs.flatten()\n",
    "\n",
    "\n",
    "# Fonction pour échantillonner des exemples de bruit de fond (_silence_)\n",
    "def sample_noise(audio_array, sr=16000):\n",
    "    random_offset = randint(0, len(audio_array) - sr)\n",
    "    return audio_array[random_offset : random_offset + sr]\n",
    "\n",
    "# Préparation des données\n",
    "def prepare_data(dataset):\n",
    "    X, y = [], []\n",
    "    for data in dataset:\n",
    "        audio_array = data['audio']['array']\n",
    "        label = data['label']\n",
    "        # Appliquer l'échantillonnage du bruit si nécessaire\n",
    "        if label == 30:  # \"_silence_\"\n",
    "            audio_array = sample_noise(audio_array)\n",
    "        mfccs = extract_features(audio_array)\n",
    "        X.append(mfccs.flatten())\n",
    "        y.append(label)\n",
    "    return np.array(X), np.array(y)"
   ]
  },
  {
   "cell_type": "code",
   "execution_count": 6,
   "metadata": {},
   "outputs": [],
   "source": [
    "X_train, y_train = prepare_data(dataset['train'])\n",
    "X_val, y_val = prepare_data(dataset['validation'])\n",
    "X_test, y_test = prepare_data(dataset['test'])"
   ]
  },
  {
   "cell_type": "code",
   "execution_count": 7,
   "metadata": {},
   "outputs": [
    {
     "name": "stdout",
     "output_type": "stream",
     "text": [
      "Validation Accuracy: 0.45271363435799383\n",
      "Test Accuracy: 0.38461538461538464\n"
     ]
    },
    {
     "name": "stderr",
     "output_type": "stream",
     "text": [
      "c:\\Users\\Saliou\\anaconda3\\Lib\\site-packages\\sklearn\\linear_model\\_logistic.py:460: ConvergenceWarning: lbfgs failed to converge (status=1):\n",
      "STOP: TOTAL NO. of ITERATIONS REACHED LIMIT.\n",
      "\n",
      "Increase the number of iterations (max_iter) or scale the data as shown in:\n",
      "    https://scikit-learn.org/stable/modules/preprocessing.html\n",
      "Please also refer to the documentation for alternative solver options:\n",
      "    https://scikit-learn.org/stable/modules/linear_model.html#logistic-regression\n",
      "  n_iter_i = _check_optimize_result(\n"
     ]
    }
   ],
   "source": [
    "# Entraînement du modèle de régression logistique\n",
    "log_reg = LogisticRegression(max_iter=100)\n",
    "log_reg.fit(X_train, y_train)\n",
    "\n",
    "# Évaluation du modèle sur l'ensemble de validation\n",
    "y_val_pred = log_reg.predict(X_val)\n",
    "val_accuracy = accuracy_score(y_val, y_val_pred)\n",
    "print(f'Validation Accuracy: {val_accuracy}')\n",
    "\n",
    "# Évaluation du modèle sur l'ensemble de test\n",
    "y_test_pred = log_reg.predict(X_test)\n",
    "test_accuracy = accuracy_score(y_test, y_test_pred)\n",
    "print(f'Test Accuracy: {test_accuracy}')"
   ]
  },
  {
   "cell_type": "code",
   "execution_count": 8,
   "metadata": {},
   "outputs": [
    {
     "name": "stdout",
     "output_type": "stream",
     "text": [
      "              precision    recall  f1-score   support\n",
      "\n",
      "           0       0.77      0.55      0.64       256\n",
      "           1       0.56      0.19      0.29       252\n",
      "           2       0.29      0.35      0.32       272\n",
      "           3       0.53      0.36      0.43       253\n",
      "           4       0.50      0.37      0.42       267\n",
      "           5       0.62      0.34      0.44       259\n",
      "           6       0.63      0.44      0.52       246\n",
      "           7       0.67      0.45      0.54       262\n",
      "           8       0.80      0.52      0.63       249\n",
      "           9       0.54      0.37      0.44       251\n",
      "          10       0.10      0.46      0.16        13\n",
      "          11       0.06      0.38      0.11        16\n",
      "          12       0.17      0.44      0.24        16\n",
      "          13       0.09      0.47      0.15        15\n",
      "          14       0.04      0.33      0.07         9\n",
      "          15       0.06      0.30      0.10        23\n",
      "          16       0.15      0.55      0.23        11\n",
      "          17       0.24      0.81      0.37        16\n",
      "          18       0.07      0.44      0.13        16\n",
      "          19       0.08      0.28      0.12        25\n",
      "          20       0.08      0.38      0.13         8\n",
      "          21       0.13      0.70      0.22        10\n",
      "          22       0.05      0.44      0.09         9\n",
      "          23       0.05      0.20      0.08        10\n",
      "          24       0.20      0.54      0.29        13\n",
      "          25       0.09      0.67      0.16         6\n",
      "          26       0.19      0.58      0.29        12\n",
      "          27       0.12      0.56      0.20         9\n",
      "          28       0.08      0.30      0.12        10\n",
      "          29       0.05      0.40      0.09        10\n",
      "          30       1.00      0.22      0.36       257\n",
      "\n",
      "    accuracy                           0.38      3081\n",
      "   macro avg       0.29      0.43      0.27      3081\n",
      "weighted avg       0.58      0.38      0.43      3081\n",
      "\n"
     ]
    }
   ],
   "source": [
    "print(classification_report(y_test, y_test_pred))"
   ]
  },
  {
   "cell_type": "code",
   "execution_count": 5,
   "metadata": {},
   "outputs": [],
   "source": [
    "#afficher les labels important et ceux qui ne le sont pas (_unknown_= true or false) )\n",
    "notImport_labels = []\n",
    "for data in dataset[\"train\"]:\n",
    "    if data['is_unknown'] == True :\n",
    "        notImport_labels.append(data['label'])"
   ]
  },
  {
   "cell_type": "code",
   "execution_count": 6,
   "metadata": {},
   "outputs": [
    {
     "name": "stdout",
     "output_type": "stream",
     "text": [
      "51093 32550\n",
      "[10 11 12 13 14 15 16 17 18 19 20 21 22 23 24 25 26 27 28 29]\n"
     ]
    }
   ],
   "source": [
    "print(len(dataset[\"train\"]), len(notImport_labels))\n",
    "print(np.unique(np.array(notImport_labels)))"
   ]
  },
  {
   "cell_type": "code",
   "execution_count": null,
   "metadata": {},
   "outputs": [],
   "source": []
  }
 ],
 "metadata": {
  "kernelspec": {
   "display_name": "Python 3 (ipykernel)",
   "language": "python",
   "name": "python3"
  },
  "language_info": {
   "codemirror_mode": {
    "name": "ipython",
    "version": 3
   },
   "file_extension": ".py",
   "mimetype": "text/x-python",
   "name": "python",
   "nbconvert_exporter": "python",
   "pygments_lexer": "ipython3",
   "version": "3.11.4"
  }
 },
 "nbformat": 4,
 "nbformat_minor": 2
}
