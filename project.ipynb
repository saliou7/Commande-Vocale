{
 "cells": [
  {
   "cell_type": "code",
   "execution_count": null,
   "metadata": {},
   "outputs": [],
   "source": [
    "from datasets import load_dataset\n",
    "import matplotlib.pyplot as plt\n",
    "import librosa.display\n",
    "import librosa\n",
    "import numpy as np\n",
    "import os\n",
    "from sklearn.preprocessing import LabelEncoder\n",
    "from sklearn.preprocessing import StandardScaler\n",
    "from sklearn.model_selection import train_test_split, cross_val_score, GridSearchCV\n",
    "from sklearn.svm import SVC, LinearSVC\n",
    "from sklearn.metrics import classification_report, confusion_matrix, accuracy_score\n",
    "from sklearn.linear_model import LogisticRegression\n",
    "from random import randint"
   ]
  },
  {
   "cell_type": "code",
   "execution_count": null,
   "metadata": {},
   "outputs": [],
   "source": [
    "path = './data'\n",
    "dataset = load_dataset(\"speech_commands\", \"v0.01\", cache_dir=path)"
   ]
  },
  {
   "cell_type": "code",
   "execution_count": null,
   "metadata": {},
   "outputs": [],
   "source": [
    "dataset"
   ]
  },
  {
   "cell_type": "code",
   "execution_count": null,
   "metadata": {},
   "outputs": [],
   "source": [
    "dataset = dataset['train']['audio']['array'][0]"
   ]
  },
  {
   "cell_type": "code",
   "execution_count": null,
   "metadata": {},
   "outputs": [],
   "source": [
    "# Créer une liste de tous les labels\n",
    "labels = [data['label'] for data in dataset['train']]\n",
    "\n",
    "# Dessiner l'histogramme\n",
    "plt.figure(figsize=(10, 5))\n",
    "plt.hist(labels, bins=len(set(labels)), color='blue', edgecolor='black')\n",
    "plt.title('Distribution des Labels dans le Dataset d\\'Entraînement')\n",
    "plt.xlabel('Labels')\n",
    "plt.ylabel('Nombre d\\'Échantillons')\n",
    "plt.xticks(rotation=90)\n",
    "plt.show()\n"
   ]
  },
  {
   "cell_type": "code",
   "execution_count": null,
   "metadata": {},
   "outputs": [],
   "source": [
    "def extract_features(audio, sr=16000, n_mfcc=40, max_pad_len=49):\n",
    "    mfccs = librosa.feature.mfcc(y=audio, sr=sr, n_mfcc=n_mfcc)\n",
    "    pad_width = max_pad_len - mfccs.shape[1]\n",
    "    if pad_width > 0:  # Si le nombre de colonnes dans mfccs est moins que max_pad_len\n",
    "        mfccs = np.pad(mfccs, pad_width=((0, 0), (0, pad_width)), mode='constant')\n",
    "    else:  # Si le nombre de colonnes dans mfccs est plus que max_pad_len\n",
    "        mfccs = mfccs[:, :max_pad_len]\n",
    "    return mfccs.flatten()\n",
    "\n",
    "\n",
    "# Fonction pour échantillonner des exemples de bruit de fond (_silence_)\n",
    "def sample_noise(audio_array, sr=16000):\n",
    "    random_offset = randint(0, len(audio_array) - sr)\n",
    "    return audio_array[random_offset : random_offset + sr]\n",
    "\n",
    "def convert_labels(label):\n",
    "    if label < 10: # Les labels de 0 à 9 sont les mêmes que les labels originaux\n",
    "        return label\n",
    "    elif 10 <= label < 30:\n",
    "        return 10  # \"_unknown_\"\n",
    "    else:\n",
    "        return 11 # \"_silence_\"\n",
    "    \n",
    "# Préparation des données\n",
    "def prepare_data(dataset, convert=True):\n",
    "    X, y = [], []\n",
    "    for data in dataset:\n",
    "        audio_array = data['audio']['array']\n",
    "        label = data['label']\n",
    "        # Appliquer l'échantillonnage du bruit si nécessaire\n",
    "        if label == 30:  # \"_silence_\"\n",
    "            audio_array = sample_noise(audio_array)\n",
    "        mfccs = extract_features(audio_array)\n",
    "        X.append(mfccs.flatten())\n",
    "        y.append(label)\n",
    "\n",
    "    if convert: # Convertir les labels en 12 classes (10 chiffres, _unknown_, _silence_)\n",
    "        y = [convert_labels(label) for label in y]\n",
    "    return np.array(X), np.array(y)\n"
   ]
  },
  {
   "cell_type": "code",
   "execution_count": null,
   "metadata": {},
   "outputs": [],
   "source": [
    "X_train, y_train = prepare_data(dataset['train'])\n",
    "X_val, y_val = prepare_data(dataset['validation'])\n",
    "X_test, y_test = prepare_data(dataset['test'])"
   ]
  },
  {
   "cell_type": "code",
   "execution_count": null,
   "metadata": {},
   "outputs": [],
   "source": [
    "# Entraînement du modèle de régression logistique\n",
    "log_reg = LogisticRegression(max_iter=150)\n",
    "log_reg.fit(X_train, y_train)\n",
    "\n",
    "# Évaluation du modèle sur l'ensemble de validation\n",
    "y_val_pred = log_reg.predict(X_val)\n",
    "val_accuracy = accuracy_score(y_val, y_val_pred)\n",
    "print(f'Validation Accuracy: {val_accuracy}')\n",
    "\n",
    "# Évaluation du modèle sur l'ensemble de test\n",
    "y_test_pred = log_reg.predict(X_test)\n",
    "test_accuracy = accuracy_score(y_test, y_test_pred)\n",
    "print(f'Test Accuracy: {test_accuracy}')"
   ]
  },
  {
   "cell_type": "code",
   "execution_count": null,
   "metadata": {},
   "outputs": [],
   "source": [
    "print(classification_report(y_test, y_test_pred))"
   ]
  },
  {
   "cell_type": "code",
   "execution_count": null,
   "metadata": {},
   "outputs": [],
   "source": [
    "#afficher les labels important et ceux qui ne le sont pas (_unknown_= true or false) )\n",
    "notImport_labels = []\n",
    "for data in dataset[\"train\"]:\n",
    "    if data['is_unknown'] == True :\n",
    "        notImport_labels.append(data['label'])"
   ]
  },
  {
   "cell_type": "code",
   "execution_count": null,
   "metadata": {},
   "outputs": [],
   "source": [
    "print(len(dataset[\"train\"]), len(notImport_labels))\n",
    "print(np.unique(np.array(notImport_labels)))"
   ]
  }
 ],
 "metadata": {
  "kernelspec": {
   "display_name": "Python 3 (ipykernel)",
   "language": "python",
   "name": "python3"
  },
  "language_info": {
   "codemirror_mode": {
    "name": "ipython",
    "version": 3
   },
   "file_extension": ".py",
   "mimetype": "text/x-python",
   "name": "python",
   "nbconvert_exporter": "python",
   "pygments_lexer": "ipython3",
   "version": "3.11.4"
  }
 },
 "nbformat": 4,
 "nbformat_minor": 2
}
