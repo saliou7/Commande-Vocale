{
 "cells": [
  {
   "cell_type": "code",
   "execution_count": 31,
   "metadata": {},
   "outputs": [
    {
     "name": "stdout",
     "output_type": "stream",
     "text": [
      "2.2.0+cu121\n",
      "2.2.0+cu121\n",
      "cuda\n"
     ]
    }
   ],
   "source": [
    "import torch\n",
    "import torchaudio\n",
    "import torchaudio.functional as F\n",
    "import torchaudio.transforms as T\n",
    "from IPython.display import Audio\n",
    "print(torch.__version__)\n",
    "print(torchaudio.__version__)\n",
    "from torch.utils.data import DataLoader\n",
    "import matplotlib.pyplot as plt\n",
    "import random\n",
    "from torchaudio.datasets import SPEECHCOMMANDS\n",
    "import os\n",
    "import torch.nn as nn\n",
    "import torch.nn.functional\n",
    "from sklearn.metrics import classification_report, confusion_matrix\n",
    "\n",
    "device = torch.device(\"cuda\" if torch.cuda.is_available() else \"cpu\") \n",
    "print(device)\n"
   ]
  },
  {
   "cell_type": "code",
   "execution_count": 32,
   "metadata": {},
   "outputs": [],
   "source": [
    "\n",
    "class SubsetSC(SPEECHCOMMANDS):\n",
    "    \"\"\"\n",
    "    A class representing a subset of the Speech Commands dataset.\n",
    "\n",
    "    Args:\n",
    "        subset (str, optional): The subset to load. Can be one of \"validation\", \"testing\", or \"training\". Defaults to None.\n",
    "        url (str, optional): The URL to download the dataset from. Defaults to \"speech_commands_v0.01\".\n",
    "\n",
    "    Attributes:\n",
    "        _walker (list): A list of file paths representing the subset.\n",
    "\n",
    "    \"\"\"\n",
    "    def __init__(self, subset: str = None, url=\"speech_commands_v0.01\"): \n",
    "        super().__init__(\"./\", url=url, download=True)\n",
    "\n",
    "        def load_list(filename):\n",
    "            filepath = os.path.join(self._path, filename)\n",
    "            with open(filepath) as fileobj:\n",
    "                return [os.path.normpath(os.path.join(self._path, line.strip())) for line in fileobj]\n",
    "\n",
    "        if subset == \"validation\":\n",
    "            self._walker = load_list(\"validation_list.txt\")\n",
    "        elif subset == \"testing\":\n",
    "            self._walker = load_list(\"testing_list.txt\")\n",
    "        elif subset == \"training\":\n",
    "            excludes = load_list(\"validation_list.txt\") + load_list(\"testing_list.txt\")\n",
    "            excludes = set(excludes)\n",
    "            self._walker = [w for w in self._walker if w not in excludes]\n",
    "\n",
    "train_set = SubsetSC(\"training\")\n",
    "test_set = SubsetSC(\"testing\")\n",
    "valid_set = SubsetSC(\"validation\")\n",
    "\n",
    "waveform, sample_rate, label, speaker_id, utterance_number = train_set[0]"
   ]
  },
  {
   "cell_type": "code",
   "execution_count": 33,
   "metadata": {},
   "outputs": [
    {
     "name": "stdout",
     "output_type": "stream",
     "text": [
      "length of train_set:  51088\n",
      "length of test_set:  6835\n",
      "length of valid_set:  6798\n"
     ]
    }
   ],
   "source": [
    "print(\"length of train_set: \", len(train_set))\n",
    "print(\"length of test_set: \", len(test_set))\n",
    "print(\"length of valid_set: \", len(valid_set))"
   ]
  },
  {
   "cell_type": "code",
   "execution_count": 34,
   "metadata": {},
   "outputs": [
    {
     "name": "stdout",
     "output_type": "stream",
     "text": [
      "Shape of waveform: torch.Size([1, 16000])\n",
      "Sample rate of waveform: 16000\n"
     ]
    },
    {
     "data": {
      "text/plain": [
       "[<matplotlib.lines.Line2D at 0x2037c270b50>]"
      ]
     },
     "execution_count": 34,
     "metadata": {},
     "output_type": "execute_result"
    },
    {
     "data": {
      "image/png": "[encoded data removed]",
      "text/plain": [
       "<Figure size 640x480 with 1 Axes>"
      ]
     },
     "metadata": {},
     "output_type": "display_data"
    }
   ],
   "source": [
    "print(\"Shape of waveform: {}\".format(waveform.size()))\n",
    "print(\"Sample rate of waveform: {}\".format(sample_rate))\n",
    "\n",
    "plt.plot(waveform.t().numpy())"
   ]
  },
  {
   "cell_type": "markdown",
   "metadata": {},
   "source": [
    "Let’s find the list of labels available in the dataset."
   ]
  },
  {
   "cell_type": "code",
   "execution_count": 35,
   "metadata": {},
   "outputs": [],
   "source": [
    "# words = sorted(list(set(datapoint[2] for datapoint in test_set))) # Get the words spoken in the dataset\n",
    "words = ['bed','bird','cat','dog','down','eight','five','four','go','happy','house','left','marvin','nine','no','off','on','one','right','seven','sheila','six','stop','three','tree','two','up','wow','yes','zero']"
   ]
  },
  {
   "cell_type": "markdown",
   "metadata": {},
   "source": [
    "We are encoding each word using its index in the list of labels."
   ]
  },
  {
   "cell_type": "code",
   "execution_count": 36,
   "metadata": {},
   "outputs": [
    {
     "name": "stdout",
     "output_type": "stream",
     "text": [
      "yes --> tensor(28) --> yes\n"
     ]
    }
   ],
   "source": [
    "def label_to_index(word):\n",
    "    # Return the position of the word in labels\n",
    "    return torch.tensor(words.index(word))\n",
    "\n",
    "\n",
    "def index_to_label(index):\n",
    "    # Return the word corresponding to the index in labels\n",
    "    # This is the inverse of label_to_index\n",
    "    return words[index]\n",
    "\n",
    "\n",
    "# Test \n",
    "word_start = \"yes\"\n",
    "index = label_to_index(word_start)\n",
    "word_recovered = index_to_label(index)\n",
    "\n",
    "print(word_start, \"-->\", index, \"-->\", word_recovered)"
   ]
  },
  {
   "cell_type": "code",
   "execution_count": 200,
   "metadata": {},
   "outputs": [],
   "source": [
    "# extraction des features mfcc\n",
    "\n",
    "n_fft = 1024 \n",
    "n_mels = 40\n",
    "n_mfcc = 40\n",
    "hop_length = int(0.04 * 16000)  # 40 ms en échantillons\n",
    "win_length = int(0.03 * 16000)  # 20 ms en échantillons\n",
    "sample_rate = 16000\n",
    "\n",
    "# MFCC transform object \n",
    "mfcc_transform = T.MFCC(\n",
    "    sample_rate=sample_rate,\n",
    "    n_mfcc=n_mfcc,\n",
    "    melkwargs={\n",
    "        \"n_fft\": n_fft,\n",
    "        \"n_mels\": n_mels,\n",
    "        \"hop_length\": hop_length,\n",
    "        \"win_length\": win_length,\n",
    "        \"mel_scale\": \"htk\",\n",
    "    },\n",
    ").to(device)\n",
    "    \n",
    "# Fonction pour l'augmentation des données\n",
    "def data_augmentation(waveform, parameters):\n",
    "    # Time shift perturbation\n",
    "    if parameters[\"time_shift\"][0]:\n",
    "        shift_ms = random.uniform(parameters[\"time_shift\"][1][0], parameters[\"time_shift\"][1][1])\n",
    "        shift_samples = int(sample_rate * shift_ms / 1000)\n",
    "        waveform = torch.roll(waveform, shifts=shift_samples, dims=-1)\n",
    "\n",
    "    # Add white noise with magnitude [-90, -46] dB\n",
    "    if parameters[\"noise\"][0]:\n",
    "        noise_dB = random.uniform(parameters[\"noise\"][1][0], parameters[\"noise\"][1][1])\n",
    "        noise_power = torch.pow(10.0, noise_dB / 10)\n",
    "        noise = torch.randn(waveform.size(), device=device) * noise_power\n",
    "        waveform += noise\n",
    "\n",
    "    # Apply SpecAugment\n",
    "    # 2 continuous time masks of size [0, 25] time steps\n",
    "    if parameters[\"time_mask\"][0]:\n",
    "        time_masking = T.TimeMasking(time_mask_param=random.randint(parameters[\"time_mask\"][1][0], parameters[\"time_mask\"][1][1])).to(device)\n",
    "        waveform = time_masking(waveform)\n",
    "        waveform = time_masking(waveform)  # Apply twice for 2 continuous time masks\n",
    "\n",
    "    if parameters[\"freq_mask\"][0]:\n",
    "        # 2 continuous frequency masks of size [0, 15] frequency bands\n",
    "        frequency_masking = T.FrequencyMasking(freq_mask_param=random.randint(parameters[\"freq_mask\"][1][0], parameters[\"freq_mask\"][1][1])).to(device)\n",
    "        waveform = frequency_masking(waveform)\n",
    "        waveform = frequency_masking(waveform)  # Apply twice for 2 continuous frequency masks\n",
    "        \n",
    "    return waveform\n",
    "        \n"
   ]
  },
  {
   "cell_type": "code",
   "execution_count": 201,
   "metadata": {},
   "outputs": [],
   "source": [
    "def extract_mfcc(batch, parameters, augment=False, augment_type=\"duplicate\", type_pad=\"zero\", reshape=False):\n",
    "\n",
    "    tensors, targets = [], []\n",
    "\n",
    "    for waveform, _, label, *_ in batch:\n",
    "        \n",
    "        if waveform.size(1) < 16000:\n",
    "            # Pad the waveform if it is shorter than 1 second\n",
    "            waveform = torch.nn.functional.pad(waveform, (0, sample_rate - waveform.size(1)), value=0)\n",
    "        elif waveform.size(1) > 16000:\n",
    "            # Trim the waveform if it is longer than 1 second\n",
    "            waveform = waveform[:, :16000]\n",
    "\n",
    "        # Apply data augmentation to the waveform\n",
    "        waveform = waveform.to(device)\n",
    "        if augment:\n",
    "            if augment_type == \"duplicate\":\n",
    "                waveformAug = data_augmentation(waveform, parameters)\n",
    "            elif augment_type == \"random\" :\n",
    "                # dans 30 % des cas on applique l'augmentation\n",
    "                waveformAug = data_augmentation(waveform, parameters) if random.random() < 0.3 else waveform\n",
    "            else :\n",
    "                waveformAug = waveform\n",
    "            # Apply MFCC transform to the augmented waveform\n",
    "            waveformAug = mfcc_transform(waveformAug)\n",
    "\n",
    "            if reshape:\n",
    "                waveformAug = waveformAug.reshape(1, -1)\n",
    "            tensors.append(waveformAug)\n",
    "            targets += [label_to_index(label)]\n",
    "        \n",
    "        # Apply MFCC transform to the waveform\n",
    "        waveform = mfcc_transform(waveform)\n",
    "        # waveform = waveform.reshape(1, -1)\n",
    "\n",
    "        tensors.append(waveform)\n",
    "        targets += [label_to_index(label)]\n",
    "        \n",
    "    # Group the list of tensors into a batched tensor\n",
    "    tensors = torch.stack(tensors)\n",
    "    targets = torch.stack(targets)\n",
    "    return tensors, targets\n"
   ]
  },
  {
   "cell_type": "code",
   "execution_count": 158,
   "metadata": {},
   "outputs": [],
   "source": [
    "# implémentation d'un modèle pas très complexe\n",
    "import copy\n",
    "class SimpleNeuralNet(nn.Module):\n",
    "    \"\"\"\n",
    "    A simple neural network model for classification tasks.\n",
    "    Args:\n",
    "        input_size (int): The number of input features.\n",
    "        hidden_size (int): The number of units in the hidden layer.\n",
    "        num_classes (int): The number of output classes.\n",
    "    \"\"\"\n",
    "    \n",
    "    def __init__(self, input_size, hidden_size, num_classes):\n",
    "        super(SimpleNeuralNet, self).__init__()\n",
    "        self.fc1 = nn.Linear(input_size, hidden_size) \n",
    "        self.relu = nn.ReLU()\n",
    "        self.fc2 = nn.Linear(hidden_size, num_classes)  \n",
    "    \n",
    "    def forward(self, x):\n",
    "        \"\"\"\n",
    "        Forward pass of the neural network.\n",
    "        Args:\n",
    "            x (torch.Tensor): The input tensor.    \n",
    "        Returns:\n",
    "            torch.Tensor: The output tensor.\n",
    "        \"\"\"\n",
    "        out = self.fc1(x)\n",
    "        out = self.relu(out)\n",
    "        out = self.fc2(out)\n",
    "        return out\n",
    "    \n",
    "# Fonction d'entraînement\n",
    "def train(model,train_loader, criterion, optimizer):\n",
    "    model.train()\n",
    "    for batch_idx, (data, target) in enumerate(train_loader):\n",
    "        data, target = data.to(device), target.to(device) # Charger les données sur le GPU\n",
    "        output = model(data) # Prédiction du modèle\n",
    "        loss = criterion(output, target) # Calcul de la perte\n",
    "        optimizer.zero_grad() # Remettre à zéro les gradients\n",
    "        loss.backward() # Calcul des gradients\n",
    "        optimizer.step() # Mise à jour des poids\n",
    "                     \n",
    "# Fonction d'évaluation\n",
    "def validation(model, validation_loader, criterion, best_accuracy, best_model, epoch):\n",
    "    model.eval()\n",
    "    correct = 0\n",
    "    with torch.no_grad():\n",
    "        for data, target in validation_loader:\n",
    "            data, target = data.to(device), target.to(device)\n",
    "            output = model(data)\n",
    "            # test_loss += criterion(output, target).item()  # sum up batch loss\n",
    "            pred = output.argmax(dim=1, keepdim=True)  # get the index of the max log-probability\n",
    "            correct += pred.eq(target.view_as(pred)).sum().item() # Number of correct predictions\n",
    "\n",
    "    accuracy = correct / len(validation_loader.dataset) # Accuracy\n",
    "    print(\"epoch: \", epoch, \"accuracy: \", accuracy)\n",
    "    \n",
    "    if accuracy > best_accuracy:\n",
    "        best_accuracy = accuracy\n",
    "        return copy.deepcopy(model), best_accuracy\n",
    "    return best_model, best_accuracy\n",
    "\n",
    "# Fonction de test\n",
    "def test(model, test_loader): \n",
    "    model.eval() # Mettre le modèle en mode évaluation\n",
    "    predictions = []\n",
    "    targets = []\n",
    "    with torch.no_grad():\n",
    "        for data, target in test_loader:\n",
    "            data, target = data, target\n",
    "            output = model(data)\n",
    "            pred = output.argmax(dim=1, keepdim=True)\n",
    "            predictions.extend(pred.cpu().numpy())\n",
    "            targets.extend(target.cpu().numpy())\n",
    "    return predictions, targets"
   ]
  },
  {
   "cell_type": "code",
   "execution_count": 177,
   "metadata": {},
   "outputs": [],
   "source": [
    "from functools import partial\n",
    "from tqdm import tqdm\n",
    "\n",
    "\n",
    "def global_function(\n",
    "        model = None,\n",
    "        optimizer = None,\n",
    "        criterion = None,\n",
    "        batch = 256,\n",
    "        augment_type = \"duplicate\",\n",
    "        parameters = None,\n",
    "        augment = False,\n",
    "        num_epochs = 10,\n",
    "        reshape = False,\n",
    "    ):\n",
    "    \n",
    "    batch_size = batch//2 if augment else batch # Batch size for training\n",
    "    num_workers, pin_memory = (1, True) if device == \"cuda\" else (0, False)\n",
    "\n",
    "    extract_mfcc_train = partial(extract_mfcc, parameters=parameters, augment=augment, augment_type=augment_type, reshape=reshape)\n",
    "\n",
    "    train_loader = DataLoader(\n",
    "        train_set,\n",
    "        batch_size=batch_size,\n",
    "        shuffle=True,\n",
    "        collate_fn=extract_mfcc_train, \n",
    "        num_workers=num_workers,\n",
    "        pin_memory=pin_memory,\n",
    "    )\n",
    "\n",
    "    extract_mfcc_valid = partial(extract_mfcc, parameters=parameters, augment=False)\n",
    "\n",
    "    valid_loader = DataLoader(\n",
    "        valid_set,\n",
    "        batch_size=batch_size,\n",
    "        shuffle=False,\n",
    "        drop_last=False,\n",
    "        collate_fn=extract_mfcc_valid,\n",
    "        num_workers=num_workers,\n",
    "        pin_memory=pin_memory,\n",
    "    )\n",
    "\n",
    "    # Training function\n",
    "    best_model = None\n",
    "    best_accuracy = 0\n",
    "\n",
    "    for epoch in tqdm(range(num_epochs)):\n",
    "        train(model, train_loader, criterion, optimizer)\n",
    "        best_model, best_accuracy = validation(model, valid_loader, criterion, best_accuracy, best_model, epoch)\n",
    "    \n",
    "    return best_model\n"
   ]
  },
  {
   "cell_type": "code",
   "execution_count": 60,
   "metadata": {},
   "outputs": [
    {
     "name": "stderr",
     "output_type": "stream",
     "text": [
      "  0%|          | 0/10 [00:00<?, ?it/s]"
     ]
    },
    {
     "name": "stderr",
     "output_type": "stream",
     "text": [
      " 10%|█         | 1/10 [01:16<11:28, 76.54s/it]"
     ]
    },
    {
     "name": "stdout",
     "output_type": "stream",
     "text": [
      "epoch:  0 accuracy:  0.44880847308031774\n"
     ]
    },
    {
     "name": "stderr",
     "output_type": "stream",
     "text": [
      " 20%|██        | 2/10 [02:33<10:15, 76.95s/it]"
     ]
    },
    {
     "name": "stdout",
     "output_type": "stream",
     "text": [
      "epoch:  1 accuracy:  0.5666372462488968\n"
     ]
    },
    {
     "name": "stderr",
     "output_type": "stream",
     "text": [
      " 30%|███       | 3/10 [03:52<09:04, 77.85s/it]"
     ]
    },
    {
     "name": "stdout",
     "output_type": "stream",
     "text": [
      "epoch:  2 accuracy:  0.6097381582818476\n"
     ]
    },
    {
     "name": "stderr",
     "output_type": "stream",
     "text": [
      " 40%|████      | 4/10 [05:12<07:50, 78.42s/it]"
     ]
    },
    {
     "name": "stdout",
     "output_type": "stream",
     "text": [
      "epoch:  3 accuracy:  0.6220947337452192\n"
     ]
    },
    {
     "name": "stderr",
     "output_type": "stream",
     "text": [
      " 50%|█████     | 5/10 [06:27<06:26, 77.21s/it]"
     ]
    },
    {
     "name": "stdout",
     "output_type": "stream",
     "text": [
      "epoch:  4 accuracy:  0.6206237128567226\n"
     ]
    },
    {
     "name": "stderr",
     "output_type": "stream",
     "text": [
      " 60%|██████    | 6/10 [07:42<05:05, 76.44s/it]"
     ]
    },
    {
     "name": "stdout",
     "output_type": "stream",
     "text": [
      "epoch:  5 accuracy:  0.6459252721388644\n"
     ]
    },
    {
     "name": "stderr",
     "output_type": "stream",
     "text": [
      " 70%|███████   | 7/10 [08:57<03:47, 75.97s/it]"
     ]
    },
    {
     "name": "stdout",
     "output_type": "stream",
     "text": [
      "epoch:  6 accuracy:  0.6322447778758459\n"
     ]
    },
    {
     "name": "stderr",
     "output_type": "stream",
     "text": [
      " 80%|████████  | 8/10 [10:09<02:29, 74.90s/it]"
     ]
    },
    {
     "name": "stdout",
     "output_type": "stream",
     "text": [
      "epoch:  7 accuracy:  0.6312150632538982\n"
     ]
    },
    {
     "name": "stderr",
     "output_type": "stream",
     "text": [
      " 90%|█████████ | 9/10 [11:26<01:15, 75.49s/it]"
     ]
    },
    {
     "name": "stdout",
     "output_type": "stream",
     "text": [
      "epoch:  8 accuracy:  0.6290085319211532\n"
     ]
    },
    {
     "name": "stderr",
     "output_type": "stream",
     "text": [
      "100%|██████████| 10/10 [12:42<00:00, 76.20s/it]"
     ]
    },
    {
     "name": "stdout",
     "output_type": "stream",
     "text": [
      "epoch:  9 accuracy:  0.6384230656075316\n"
     ]
    },
    {
     "name": "stderr",
     "output_type": "stream",
     "text": [
      "\n"
     ]
    }
   ],
   "source": [
    "model = SimpleNeuralNet(input_size=6464, hidden_size=256, num_classes=30).to(device)\n",
    "# Fonction de perte et optimiseur\n",
    "criterion = nn.CrossEntropyLoss()\n",
    "optimizer = torch.optim.Adam(model.parameters(), lr=0.001)\n",
    "\n",
    "# Paramètres pour la data augmentation\n",
    "parameters = {\n",
    "    \"time_shift\": [True, [0, 100]],  # Time shift perturbation\n",
    "    \"noise\": [True, [-90, -46]],  # Add white noise\n",
    "    \"time_mask\": [True, [0, 25]],  # Time masking\n",
    "    \"freq_mask\": [True, [0, 15]],  # Frequency masking\n",
    "}\n",
    "\n",
    "# Entraînement du modèle\n",
    "best_model = global_function(\n",
    "    model=model,\n",
    "    optimizer=optimizer,\n",
    "    criterion=criterion,\n",
    "    batch=256,\n",
    "    parameters=parameters,\n",
    "    augment=False,\n",
    "    num_epochs=10,\n",
    ")"
   ]
  },
  {
   "cell_type": "code",
   "execution_count": 72,
   "metadata": {},
   "outputs": [
    {
     "name": "stdout",
     "output_type": "stream",
     "text": [
      "Test Accuracy:  0.6134601316752012\n",
      "Test Classification Report:\n",
      "              precision    recall  f1-score   support\n",
      "\n",
      "         bed       0.56      0.45      0.50       176\n",
      "        bird       0.63      0.72      0.67       158\n",
      "         cat       0.52      0.70      0.60       166\n",
      "         dog       0.46      0.43      0.44       180\n",
      "        down       0.56      0.51      0.53       253\n",
      "       eight       0.59      0.70      0.64       257\n",
      "        five       0.62      0.44      0.52       271\n",
      "        four       0.75      0.66      0.70       253\n",
      "          go       0.45      0.34      0.39       251\n",
      "       happy       0.58      0.85      0.69       180\n",
      "       house       0.79      0.79      0.79       150\n",
      "        left       0.68      0.60      0.64       267\n",
      "      marvin       0.53      0.63      0.58       162\n",
      "        nine       0.49      0.60      0.54       259\n",
      "          no       0.41      0.60      0.49       252\n",
      "         off       0.70      0.61      0.65       262\n",
      "          on       0.63      0.60      0.61       246\n",
      "         one       0.53      0.54      0.53       248\n",
      "       right       0.68      0.54      0.60       259\n",
      "       seven       0.79      0.73      0.76       239\n",
      "      sheila       0.74      0.80      0.77       186\n",
      "         six       0.88      0.71      0.79       244\n",
      "        stop       0.73      0.76      0.75       249\n",
      "       three       0.54      0.48      0.51       267\n",
      "        tree       0.55      0.59      0.57       193\n",
      "         two       0.67      0.59      0.63       264\n",
      "          up       0.44      0.48      0.46       272\n",
      "         wow       0.51      0.65      0.57       165\n",
      "         yes       0.79      0.77      0.78       256\n",
      "        zero       0.80      0.74      0.77       250\n",
      "\n",
      "    accuracy                           0.61      6835\n",
      "   macro avg       0.62      0.62      0.62      6835\n",
      "weighted avg       0.62      0.61      0.61      6835\n",
      "\n"
     ]
    },
    {
     "data": {
      "image/png": "[encoded data removed]",
      "text/plain": [
       "<Figure size 1000x1000 with 2 Axes>"
      ]
     },
     "metadata": {},
     "output_type": "display_data"
    }
   ],
   "source": [
    "# TEST DU MODELE\n",
    "from sklearn.metrics import accuracy_score\n",
    "# Extraction des features MFCC\n",
    "extract_mfcc_test = partial(extract_mfcc, parameters=parameters, augment=False)\n",
    "\n",
    "num_workers, pin_memory = (1, True) if device == \"cuda\" else (0, False)\n",
    "\n",
    "test_loader = DataLoader(\n",
    "    test_set,\n",
    "    batch_size=256,\n",
    "    shuffle=False,\n",
    "    drop_last=False,\n",
    "    collate_fn=extract_mfcc_test,\n",
    "    num_workers=num_workers,\n",
    "    pin_memory=pin_memory,\n",
    ")\n",
    "\n",
    "predictions, targets = test(best_model, test_loader)\n",
    "print(\"Test Accuracy: \", accuracy_score(targets, predictions))\n",
    "\n",
    "\n",
    "# Afficher les performances\n",
    "print(\"Test Classification Report:\")\n",
    "print(classification_report(targets, predictions, target_names=words))\n",
    "\n",
    "# Matrice de confusion\n",
    "cm = confusion_matrix(targets, predictions)\n",
    "plt.figure(figsize=(10, 10))\n",
    "plt.imshow(cm, interpolation=\"nearest\", cmap=plt.cm.Blues)\n",
    "plt.colorbar()\n",
    "plt.title(\"Confusion Matrix\")\n",
    "plt.xlabel(\"Predicted\")\n",
    "plt.ylabel(\"True\")\n",
    "plt.show()\n"
   ]
  },
  {
   "cell_type": "code",
   "execution_count": 70,
   "metadata": {},
   "outputs": [
    {
     "name": "stderr",
     "output_type": "stream",
     "text": [
      "  0%|          | 0/10 [00:00<?, ?it/s]"
     ]
    },
    {
     "name": "stderr",
     "output_type": "stream",
     "text": [
      " 10%|█         | 1/10 [02:03<18:35, 124.00s/it]"
     ]
    },
    {
     "name": "stdout",
     "output_type": "stream",
     "text": [
      "epoch:  0 accuracy:  0.4638128861429832\n"
     ]
    },
    {
     "name": "stderr",
     "output_type": "stream",
     "text": [
      " 20%|██        | 2/10 [04:09<16:38, 124.77s/it]"
     ]
    },
    {
     "name": "stdout",
     "output_type": "stream",
     "text": [
      "epoch:  1 accuracy:  0.5850250073551044\n"
     ]
    },
    {
     "name": "stderr",
     "output_type": "stream",
     "text": [
      " 30%|███       | 3/10 [06:26<15:11, 130.28s/it]"
     ]
    },
    {
     "name": "stdout",
     "output_type": "stream",
     "text": [
      "epoch:  2 accuracy:  0.6212121212121212\n"
     ]
    },
    {
     "name": "stderr",
     "output_type": "stream",
     "text": [
      " 40%|████      | 4/10 [08:30<12:47, 127.95s/it]"
     ]
    },
    {
     "name": "stdout",
     "output_type": "stream",
     "text": [
      "epoch:  3 accuracy:  0.6241541629891144\n"
     ]
    },
    {
     "name": "stderr",
     "output_type": "stream",
     "text": [
      " 50%|█████     | 5/10 [10:32<10:29, 125.97s/it]"
     ]
    },
    {
     "name": "stdout",
     "output_type": "stream",
     "text": [
      "epoch:  4 accuracy:  0.6251838776110621\n"
     ]
    },
    {
     "name": "stderr",
     "output_type": "stream",
     "text": [
      " 60%|██████    | 6/10 [12:41<08:27, 127.00s/it]"
     ]
    },
    {
     "name": "stdout",
     "output_type": "stream",
     "text": [
      "epoch:  5 accuracy:  0.6337157987643425\n"
     ]
    },
    {
     "name": "stderr",
     "output_type": "stream",
     "text": [
      " 70%|███████   | 7/10 [14:52<06:24, 128.11s/it]"
     ]
    },
    {
     "name": "stdout",
     "output_type": "stream",
     "text": [
      "epoch:  6 accuracy:  0.6253309796999117\n"
     ]
    },
    {
     "name": "stderr",
     "output_type": "stream",
     "text": [
      " 80%|████████  | 8/10 [16:57<04:14, 127.31s/it]"
     ]
    },
    {
     "name": "stdout",
     "output_type": "stream",
     "text": [
      "epoch:  7 accuracy:  0.6070903206825536\n"
     ]
    },
    {
     "name": "stderr",
     "output_type": "stream",
     "text": [
      " 90%|█████████ | 9/10 [19:00<02:05, 125.83s/it]"
     ]
    },
    {
     "name": "stdout",
     "output_type": "stream",
     "text": [
      "epoch:  8 accuracy:  0.6423948220064725\n"
     ]
    },
    {
     "name": "stderr",
     "output_type": "stream",
     "text": [
      "100%|██████████| 10/10 [21:02<00:00, 126.29s/it]"
     ]
    },
    {
     "name": "stdout",
     "output_type": "stream",
     "text": [
      "epoch:  9 accuracy:  0.6462194763165637\n"
     ]
    },
    {
     "name": "stderr",
     "output_type": "stream",
     "text": [
      "\n"
     ]
    }
   ],
   "source": [
    "parameters = {\n",
    "    \"time_shift\": [True, [-10, 10]],  # Time shift perturbation\n",
    "    \"noise\": [False, [-90, -46]],  # Add white noise\n",
    "    \"time_mask\": [False, [0, 25]],  # Time masking\n",
    "    \"freq_mask\": [False, [0, 15]],  # Frequency masking\n",
    "}\n",
    "model = SimpleNeuralNet(input_size=6464, hidden_size=500, num_classes=30).to(device)\n",
    "criterion = nn.CrossEntropyLoss()\n",
    "optimizer = torch.optim.Adam(model.parameters(), lr=0.001)\n",
    "# Entraînement du modèle\n",
    "best_model_shift = global_function(\n",
    "    model=model,\n",
    "    optimizer=optimizer,\n",
    "    criterion=criterion,\n",
    "    batch=256,\n",
    "    parameters=parameters,\n",
    "    augment=True,\n",
    "    num_epochs=10,\n",
    "    augment_type=\"random\",\n",
    ")\n"
   ]
  },
  {
   "cell_type": "code",
   "execution_count": 83,
   "metadata": {},
   "outputs": [
    {
     "name": "stdout",
     "output_type": "stream",
     "text": [
      "Test Accuracy:  0.6359912216532553\n"
     ]
    }
   ],
   "source": [
    "predictions_shift, targets_shift = test(best_model_shift, test_loader)\n",
    "print(\"Test Accuracy: \", accuracy_score(targets_shift, predictions_shift))\n"
   ]
  },
  {
   "cell_type": "markdown",
   "metadata": {},
   "source": [
    "# Implementation CNN"
   ]
  },
  {
   "attachments": {
    "image.png": {
     "image/png": "[encoded data removed]"
    }
   },
   "cell_type": "markdown",
   "metadata": {},
   "source": [
    "![image.png](attachment:image.png)"
   ]
  },
  {
   "cell_type": "code",
   "execution_count": 223,
   "metadata": {},
   "outputs": [],
   "source": [
    "class MFCC_CNN(nn.Module):\n",
    "    def __init__(self, num_classes=10):\n",
    "        super(MFCC_CNN, self).__init__()\n",
    "        self.conv1 = nn.Conv2d(in_channels=1, out_channels=64, kernel_size=7, padding=1)\n",
    "        self.maxpool = nn.MaxPool2d(kernel_size=(3, 3), stride=(1, 3))\n",
    "        self.conv2 = nn.Conv2d(in_channels=64, out_channels=64, kernel_size=7, padding=1)\n",
    "        self.fc1 = None\n",
    "        self.fc2 = nn.Linear(in_features=500, out_features=500)\n",
    "        self.fc3 = nn.Linear(in_features=500, out_features=num_classes)\n",
    "\n",
    "    def forward(self, x):\n",
    "        x = torch.relu(self.conv1(x))\n",
    "        x = self.maxpool(x)\n",
    "        x = torch.relu(self.conv2(x))\n",
    "        x = self.maxpool(x)\n",
    "        if self.fc1 is None:\n",
    "            num_features_after_conv = x.shape[1] * x.shape[2] * x.shape[3]\n",
    "            self.fc1 = nn.Linear(in_features=num_features_after_conv, out_features=500).to(x.device)\n",
    "        x = x.view(x.size(0), -1)\n",
    "        x = torch.relu(self.fc1(x))\n",
    "        x = torch.relu(self.fc2(x))\n",
    "        x = self.fc3(x)\n",
    "        return x"
   ]
  },
  {
   "cell_type": "code",
   "execution_count": 224,
   "metadata": {},
   "outputs": [
    {
     "name": "stderr",
     "output_type": "stream",
     "text": [
      "  0%|          | 0/20 [00:00<?, ?it/s]"
     ]
    }
   ],
   "source": [
    "# Paramètres pour la data augmentation\n",
    "parameters = {\n",
    "    \"time_shift\": [True, [0, 100]],  # Time shift perturbation\n",
    "    \"noise\": [False, [-90, -46]],  # Add white noise\n",
    "    \"time_mask\": [False, [0, 25]],  # Time masking\n",
    "    \"freq_mask\": [False, [0, 15]],  # Frequency masking\n",
    "}\n",
    "\n",
    "model = MFCC_CNN(num_classes=30).to(device)\n",
    "\n",
    "criterion = nn.CrossEntropyLoss()\n",
    "\n",
    "optimizer = torch.optim.Adam(model.parameters(), lr=0.001)\n",
    "\n",
    "# Entraînement du modèle\n",
    "best_model_cnn = global_function(\n",
    "    model=model,\n",
    "    optimizer=optimizer,\n",
    "    criterion=criterion,\n",
    "    batch=256,\n",
    "    parameters=parameters,\n",
    "    augment=False,\n",
    "    augment_type=\"random\",\n",
    "    num_epochs=20,\n",
    ")\n",
    "\n",
    "# predictions_cnn, targets_cnn = test(best_model_cnn, test_loader)\n",
    "# print(\"Test Accuracy: \", accuracy_score(targets_cnn, predictions_cnn))\n",
    "\n"
   ]
  },
  {
   "cell_type": "code",
   "execution_count": 172,
   "metadata": {},
   "outputs": [
    {
     "name": "stdout",
     "output_type": "stream",
     "text": [
      "Test Accuracy:  0.6045354791514265\n"
     ]
    }
   ],
   "source": [
    "extract_mfcc = partial(extract_mfcc, parameters=parameters, augment=False)\n",
    "test_loader = DataLoader(\n",
    "    test_set,\n",
    "    batch_size=256,\n",
    "    shuffle=False,\n",
    "    drop_last=False,\n",
    "    collate_fn=extract_mfcc,\n",
    "    num_workers=0,\n",
    "    pin_memory=False,\n",
    ")\n",
    "\n",
    "predictions_cnn, targets_cnn = test(best_model_cnn, test_loader)\n",
    "print(\"Test Accuracy: \", accuracy_score(targets_cnn, predictions_cnn))"
   ]
  }
 ],
 "metadata": {
  "kernelspec": {
   "display_name": "base",
   "language": "python",
   "name": "python3"
  },
  "language_info": {
   "codemirror_mode": {
    "name": "ipython",
    "version": 3
   },
   "file_extension": ".py",
   "mimetype": "text/x-python",
   "name": "python",
   "nbconvert_exporter": "python",
   "pygments_lexer": "ipython3",
   "version": "3.11.4"
  }
 },
 "nbformat": 4,
 "nbformat_minor": 2
}
