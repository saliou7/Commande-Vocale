{
 "cells": [
  {
   "cell_type": "code",
   "execution_count": 17,
   "metadata": {},
   "outputs": [
    {
     "name": "stdout",
     "output_type": "stream",
     "text": [
      "2.2.0+cu121\n",
      "2.2.0+cu121\n",
      "cuda\n"
     ]
    }
   ],
   "source": [
    "import torch\n",
    "import torchaudio\n",
    "import torchaudio.functional as F\n",
    "import torchaudio.transforms as T\n",
    "from IPython.display import Audio\n",
    "print(torch.__version__)\n",
    "print(torchaudio.__version__)\n",
    "from torch.utils.data import DataLoader\n",
    "import matplotlib.pyplot as plt\n",
    "import random\n",
    "from torchaudio.datasets import SPEECHCOMMANDS\n",
    "import os\n",
    "import torch.nn as nn\n",
    "import torch.nn.functional\n",
    "from sklearn.metrics import classification_report, confusion_matrix\n",
    "from functools import partial\n",
    "from tqdm import tqdm\n",
    "from sklearn.metrics import accuracy_score\n",
    "device = torch.device(\"cuda\" if torch.cuda.is_available() else \"cpu\") \n",
    "print(device)"
   ]
  },
  {
   "cell_type": "code",
   "execution_count": 2,
   "metadata": {},
   "outputs": [],
   "source": [
    "\n",
    "class SubsetSC(SPEECHCOMMANDS):\n",
    "    \"\"\"\n",
    "    A class representing a subset of the Speech Commands dataset.\n",
    "\n",
    "    Args:\n",
    "        subset (str, optional): The subset to load. Can be one of \"validation\", \"testing\", or \"training\". Defaults to None.\n",
    "        url (str, optional): The URL to download the dataset from. Defaults to \"speech_commands_v0.01\".\n",
    "\n",
    "    Attributes:\n",
    "        _walker (list): A list of file paths representing the subset.\n",
    "\n",
    "    \"\"\"\n",
    "    def __init__(self, subset: str = None, url=\"speech_commands_v0.01\"): \n",
    "        super().__init__(\"./\", url=url, download=True)\n",
    "\n",
    "        def load_list(filename):\n",
    "            filepath = os.path.join(self._path, filename)\n",
    "            with open(filepath) as fileobj:\n",
    "                return [os.path.normpath(os.path.join(self._path, line.strip())) for line in fileobj]\n",
    "\n",
    "        if subset == \"validation\":\n",
    "            self._walker = load_list(\"validation_list.txt\")\n",
    "        elif subset == \"testing\":\n",
    "            self._walker = load_list(\"testing_list.txt\")\n",
    "        elif subset == \"training\":\n",
    "            excludes = load_list(\"validation_list.txt\") + load_list(\"testing_list.txt\")\n",
    "            excludes = set(excludes)\n",
    "            self._walker = [w for w in self._walker if w not in excludes]\n",
    "\n",
    "train_set = SubsetSC(\"training\")\n",
    "test_set = SubsetSC(\"testing\")\n",
    "valid_set = SubsetSC(\"validation\")\n",
    "\n",
    "waveform, sample_rate, label, speaker_id, utterance_number = train_set[0]"
   ]
  },
  {
   "cell_type": "code",
   "execution_count": 3,
   "metadata": {},
   "outputs": [
    {
     "name": "stdout",
     "output_type": "stream",
     "text": [
      "length of train_set:  51088\n",
      "length of test_set:  6835\n",
      "length of valid_set:  6798\n"
     ]
    }
   ],
   "source": [
    "print(\"length of train_set: \", len(train_set))\n",
    "print(\"length of test_set: \", len(test_set))\n",
    "print(\"length of valid_set: \", len(valid_set))"
   ]
  },
  {
   "cell_type": "code",
   "execution_count": 4,
   "metadata": {},
   "outputs": [
    {
     "name": "stdout",
     "output_type": "stream",
     "text": [
      "Shape of waveform: torch.Size([1, 16000])\n",
      "Sample rate of waveform: 16000\n"
     ]
    },
    {
     "data": {
      "text/plain": [
       "[<matplotlib.lines.Line2D at 0x1f44a1db010>]"
      ]
     },
     "execution_count": 4,
     "metadata": {},
     "output_type": "execute_result"
    },
    {
     "data": {
      "image/png": "[encoded data removed]",
      "text/plain": [
       "<Figure size 640x480 with 1 Axes>"
      ]
     },
     "metadata": {},
     "output_type": "display_data"
    }
   ],
   "source": [
    "print(\"Shape of waveform: {}\".format(waveform.size()))\n",
    "print(\"Sample rate of waveform: {}\".format(sample_rate))\n",
    "\n",
    "plt.plot(waveform.t().numpy())"
   ]
  },
  {
   "cell_type": "markdown",
   "metadata": {},
   "source": [
    "Let’s find the list of labels available in the dataset."
   ]
  },
  {
   "cell_type": "code",
   "execution_count": 5,
   "metadata": {},
   "outputs": [],
   "source": [
    "# words = sorted(list(set(datapoint[2] for datapoint in test_set))) # Get the words spoken in the dataset\n",
    "words = ['bed','bird','cat','dog','down','eight','five','four','go','happy','house','left','marvin','nine','no','off','on','one','right','seven','sheila','six','stop','three','tree','two','up','wow','yes','zero']"
   ]
  },
  {
   "cell_type": "markdown",
   "metadata": {},
   "source": [
    "We are encoding each word using its index in the list of labels."
   ]
  },
  {
   "cell_type": "code",
   "execution_count": 6,
   "metadata": {},
   "outputs": [
    {
     "name": "stdout",
     "output_type": "stream",
     "text": [
      "yes --> tensor(28) --> yes\n"
     ]
    }
   ],
   "source": [
    "def label_to_index(word):\n",
    "    # Return the position of the word in labels\n",
    "    return torch.tensor(words.index(word))\n",
    "\n",
    "\n",
    "def index_to_label(index):\n",
    "    # Return the word corresponding to the index in labels\n",
    "    # This is the inverse of label_to_index\n",
    "    return words[index]\n",
    "\n",
    "\n",
    "# Test \n",
    "word_start = \"yes\"\n",
    "index = label_to_index(word_start)\n",
    "word_recovered = index_to_label(index)\n",
    "\n",
    "print(word_start, \"-->\", index, \"-->\", word_recovered)"
   ]
  },
  {
   "cell_type": "code",
   "execution_count": 7,
   "metadata": {},
   "outputs": [],
   "source": [
    "# extraction des features mfcc\n",
    "\n",
    "n_fft = 1024 \n",
    "n_mels = 40\n",
    "n_mfcc = 40\n",
    "hop_length = int(0.04 * 16000)  # 40 ms en échantillons\n",
    "win_length = int(0.03 * 16000)  # 20 ms en échantillons\n",
    "sample_rate = 16000\n",
    "\n",
    "# MFCC transform object \n",
    "mfcc_transform = T.MFCC(\n",
    "    sample_rate=sample_rate,\n",
    "    n_mfcc=n_mfcc,\n",
    "    melkwargs={\n",
    "        \"n_fft\": n_fft,\n",
    "        \"n_mels\": n_mels,\n",
    "        \"hop_length\": hop_length,\n",
    "        \"win_length\": win_length,\n",
    "        \"mel_scale\": \"htk\",\n",
    "    },\n",
    ").to(device)\n",
    "    \n",
    "# Fonction pour l'augmentation des données\n",
    "def data_augmentation(waveform, parameters):\n",
    "    # Time shift perturbation\n",
    "    if parameters[\"time_shift\"][0]:\n",
    "        shift_ms = random.uniform(parameters[\"time_shift\"][1][0], parameters[\"time_shift\"][1][1])\n",
    "        shift_samples = int(sample_rate * shift_ms / 1000)\n",
    "        waveform = torch.roll(waveform, shifts=shift_samples, dims=-1)\n",
    "\n",
    "    # Add white noise with magnitude [-90, -46] dB\n",
    "    if parameters[\"noise\"][0]:\n",
    "        noise_dB = random.uniform(parameters[\"noise\"][1][0], parameters[\"noise\"][1][1])\n",
    "        noise_power = torch.pow(10.0, noise_dB / 10)\n",
    "        noise = torch.randn(waveform.size(), device=device) * noise_power\n",
    "        waveform += noise\n",
    "\n",
    "    # Apply SpecAugment\n",
    "    # 2 continuous time masks of size [0, 25] time steps\n",
    "    if parameters[\"time_mask\"][0]:\n",
    "        time_masking = T.TimeMasking(time_mask_param=random.randint(parameters[\"time_mask\"][1][0], parameters[\"time_mask\"][1][1])).to(device)\n",
    "        waveform = time_masking(waveform)\n",
    "        waveform = time_masking(waveform)  # Apply twice for 2 continuous time masks\n",
    "\n",
    "    if parameters[\"freq_mask\"][0]:\n",
    "        # 2 continuous frequency masks of size [0, 15] frequency bands\n",
    "        frequency_masking = T.FrequencyMasking(freq_mask_param=random.randint(parameters[\"freq_mask\"][1][0], parameters[\"freq_mask\"][1][1])).to(device)\n",
    "        waveform = frequency_masking(waveform)\n",
    "        waveform = frequency_masking(waveform)  # Apply twice for 2 continuous frequency masks\n",
    "        \n",
    "    return waveform\n",
    "        \n"
   ]
  },
  {
   "cell_type": "code",
   "execution_count": 8,
   "metadata": {},
   "outputs": [],
   "source": [
    "def extract_mfcc(batch, parameters, augment=False, augment_type=\"duplicate\", type_pad=\"zero\", reshape=False):\n",
    "\n",
    "    tensors, targets = [], []\n",
    "\n",
    "    for waveform, _, label, *_ in batch:\n",
    "        \n",
    "        if waveform.size(1) < 16000:\n",
    "            # Pad the waveform if it is shorter than 1 second\n",
    "            waveform = torch.nn.functional.pad(waveform, (0, sample_rate - waveform.size(1)), value=0)\n",
    "        elif waveform.size(1) > 16000:\n",
    "            # Trim the waveform if it is longer than 1 second\n",
    "            waveform = waveform[:, :16000]\n",
    "\n",
    "        # Apply data augmentation to the waveform\n",
    "        waveform = waveform.to(device)\n",
    "        if augment:\n",
    "            if augment_type == \"duplicate\":\n",
    "                waveformAug = data_augmentation(waveform, parameters)\n",
    "            elif augment_type == \"random\" :\n",
    "                # dans 30 % des cas on applique l'augmentation\n",
    "                waveformAug = data_augmentation(waveform, parameters) if random.random() < 0.3 else waveform\n",
    "            else :\n",
    "                waveformAug = waveform\n",
    "            # Apply MFCC transform to the augmented waveform\n",
    "            waveformAug = mfcc_transform(waveformAug)\n",
    "\n",
    "            if reshape:\n",
    "                waveformAug = waveformAug.reshape(1, -1)\n",
    "            tensors.append(waveformAug)\n",
    "            targets += [label_to_index(label)]\n",
    "        \n",
    "        # Apply MFCC transform to the waveform\n",
    "        waveform = mfcc_transform(waveform)\n",
    "        if reshape:\n",
    "            waveform = waveform.reshape(1, -1)\n",
    "\n",
    "        tensors.append(waveform)\n",
    "        targets += [label_to_index(label)]\n",
    "        \n",
    "    # Group the list of tensors into a batched tensor\n",
    "    tensors = torch.stack(tensors)\n",
    "    targets = torch.stack(targets)\n",
    "\n",
    "    if reshape: \n",
    "        tensors = tensors.squeeze(1)\n",
    "    return tensors, targets\n"
   ]
  },
  {
   "cell_type": "code",
   "execution_count": 9,
   "metadata": {},
   "outputs": [],
   "source": [
    "# implémentation d'un modèle pas très complexe\n",
    "import copy\n",
    "class SimpleNeuralNet(nn.Module):\n",
    "    \"\"\"\n",
    "    A simple neural network model for classification tasks.\n",
    "    Args:\n",
    "        input_size (int): The number of input features.\n",
    "        hidden_size (int): The number of units in the hidden layer.\n",
    "        num_classes (int): The number of output classes.\n",
    "    \"\"\"\n",
    "    \n",
    "    def __init__(self, input_size, hidden_size, num_classes):\n",
    "        super(SimpleNeuralNet, self).__init__()\n",
    "        self.fc1 = nn.Linear(input_size, hidden_size) \n",
    "        self.relu = nn.ReLU()\n",
    "        self.fc2 = nn.Linear(hidden_size, num_classes)  \n",
    "    \n",
    "    def forward(self, x):\n",
    "        \"\"\"\n",
    "        Forward pass of the neural network.\n",
    "        Args:\n",
    "            x (torch.Tensor): The input tensor.    \n",
    "        Returns:\n",
    "            torch.Tensor: The output tensor.\n",
    "        \"\"\"\n",
    "        out = self.fc1(x)\n",
    "        out = self.relu(out)\n",
    "        out = self.fc2(out)\n",
    "        return out\n",
    "    \n",
    "# Fonction d'entraînement\n",
    "def train(model,train_loader, criterion, optimizer):\n",
    "    model.train()\n",
    "    for batch_idx, (data, target) in enumerate(train_loader):\n",
    "        data, target = data.to(device), target.to(device) # Charger les données sur le GPU\n",
    "        output = model(data) # Prédiction du modèle\n",
    "        loss = criterion(output, target) # Calcul de la perte\n",
    "        optimizer.zero_grad() # Remettre à zéro les gradients\n",
    "        loss.backward() # Calcul des gradients\n",
    "        optimizer.step() # Mise à jour des poids\n",
    "                     \n",
    "# Fonction d'évaluation\n",
    "def validation(model, validation_loader, criterion, best_accuracy, best_model, epoch):\n",
    "    model.eval()\n",
    "    correct = 0\n",
    "    with torch.no_grad():\n",
    "        for data, target in validation_loader:\n",
    "            data, target = data.to(device), target.to(device)\n",
    "            output = model(data)\n",
    "            # test_loss += criterion(output, target).item()  # sum up batch loss\n",
    "            pred = output.argmax(dim=1, keepdim=True)  # get the index of the max log-probability\n",
    "            correct += pred.eq(target.view_as(pred)).sum().item() # Number of correct predictions\n",
    "\n",
    "    accuracy = correct / len(validation_loader.dataset) # Accuracy\n",
    "    print(\"epoch: \", epoch+1, \"accuracy: \", accuracy)\n",
    "    \n",
    "    if accuracy > best_accuracy:\n",
    "        best_accuracy = accuracy\n",
    "        return copy.deepcopy(model), best_accuracy\n",
    "    return best_model, best_accuracy\n",
    "\n",
    "# Fonction de test\n",
    "def test(model, test_loader): \n",
    "    model = model.to(device)\n",
    "    model.eval() # Mettre le modèle en mode évaluation\n",
    "    predictions = torch.tensor([], device=device)\n",
    "    targets = torch.tensor([], device=device)\n",
    "    with torch.no_grad():\n",
    "        for data, target in tqdm(test_loader):\n",
    "            data, target = data.to(device), target.to(device)\n",
    "            output = model(data)\n",
    "            pred = output.argmax(dim=1, keepdim=True)\n",
    "            predictions = torch.cat((predictions, pred), dim=0)\n",
    "            targets = torch.cat((targets, target), dim=0)\n",
    "    return predictions.cpu().numpy(), targets.cpu().numpy()"
   ]
  },
  {
   "cell_type": "code",
   "execution_count": 10,
   "metadata": {},
   "outputs": [],
   "source": [
    "\n",
    "def global_function(\n",
    "        model = None,\n",
    "        optimizer = None,\n",
    "        criterion = None,\n",
    "        batch = 256,\n",
    "        augment_type = \"duplicate\",\n",
    "        parameters = None,\n",
    "        augment = False,\n",
    "        num_epochs = 10,\n",
    "        reshape = False,\n",
    "    ):\n",
    "    \n",
    "    batch_size = batch//2 if augment and augment_type == \"duplicate\" else batch # Batch size for training\n",
    "    num_workers, pin_memory = (1, True) if device == \"cuda\" else (0, False)\n",
    "\n",
    "    extract_mfcc_train = partial(extract_mfcc, parameters=parameters, augment=augment, augment_type=augment_type, reshape=reshape)\n",
    "\n",
    "    train_loader = DataLoader(\n",
    "        train_set,\n",
    "        batch_size=batch_size,\n",
    "        shuffle=True,\n",
    "        collate_fn=extract_mfcc_train, \n",
    "        num_workers=num_workers,\n",
    "        pin_memory=pin_memory,\n",
    "    )\n",
    "\n",
    "    extract_mfcc_valid = partial(extract_mfcc, parameters=parameters, reshape=reshape)\n",
    "\n",
    "    valid_loader = DataLoader(\n",
    "        valid_set,\n",
    "        batch_size=batch_size,\n",
    "        shuffle=True,\n",
    "        drop_last=False,\n",
    "        collate_fn=extract_mfcc_valid,\n",
    "        num_workers=num_workers,\n",
    "        pin_memory=pin_memory,\n",
    "    )\n",
    "\n",
    "    # Training function\n",
    "    best_model = None\n",
    "    best_accuracy = 0\n",
    "\n",
    "    for epoch in tqdm(range(num_epochs)):\n",
    "        train(model, train_loader, criterion, optimizer)\n",
    "        best_model, best_accuracy = validation(model, valid_loader, criterion, best_accuracy, best_model, epoch)\n",
    "    \n",
    "    return best_model\n"
   ]
  },
  {
   "cell_type": "code",
   "execution_count": 60,
   "metadata": {},
   "outputs": [
    {
     "name": "stderr",
     "output_type": "stream",
     "text": [
      " 10%|█         | 1/10 [01:13<11:02, 73.66s/it]"
     ]
    },
    {
     "name": "stdout",
     "output_type": "stream",
     "text": [
      "epoch:  1 accuracy:  0.6150338334804354\n"
     ]
    },
    {
     "name": "stderr",
     "output_type": "stream",
     "text": [
      " 20%|██        | 2/10 [02:22<09:28, 71.03s/it]"
     ]
    },
    {
     "name": "stdout",
     "output_type": "stream",
     "text": [
      "epoch:  2 accuracy:  0.695204471903501\n"
     ]
    },
    {
     "name": "stderr",
     "output_type": "stream",
     "text": [
      " 30%|███       | 3/10 [03:29<08:04, 69.24s/it]"
     ]
    },
    {
     "name": "stdout",
     "output_type": "stream",
     "text": [
      "epoch:  3 accuracy:  0.7177110914974992\n"
     ]
    },
    {
     "name": "stderr",
     "output_type": "stream",
     "text": [
      " 40%|████      | 4/10 [04:38<06:53, 68.86s/it]"
     ]
    },
    {
     "name": "stdout",
     "output_type": "stream",
     "text": [
      "epoch:  4 accuracy:  0.7328626066490144\n"
     ]
    },
    {
     "name": "stderr",
     "output_type": "stream",
     "text": [
      " 50%|█████     | 5/10 [05:47<05:45, 69.02s/it]"
     ]
    },
    {
     "name": "stdout",
     "output_type": "stream",
     "text": [
      "epoch:  5 accuracy:  0.7512503677552221\n"
     ]
    },
    {
     "name": "stderr",
     "output_type": "stream",
     "text": [
      " 60%|██████    | 6/10 [06:59<04:39, 69.88s/it]"
     ]
    },
    {
     "name": "stdout",
     "output_type": "stream",
     "text": [
      "epoch:  6 accuracy:  0.754780817887614\n"
     ]
    },
    {
     "name": "stderr",
     "output_type": "stream",
     "text": [
      " 70%|███████   | 7/10 [08:09<03:29, 69.97s/it]"
     ]
    },
    {
     "name": "stdout",
     "output_type": "stream",
     "text": [
      "epoch:  7 accuracy:  0.7558105325095617\n"
     ]
    },
    {
     "name": "stderr",
     "output_type": "stream",
     "text": [
      " 80%|████████  | 8/10 [09:20<02:20, 70.35s/it]"
     ]
    },
    {
     "name": "stdout",
     "output_type": "stream",
     "text": [
      "epoch:  8 accuracy:  0.7522800823771697\n"
     ]
    },
    {
     "name": "stderr",
     "output_type": "stream",
     "text": [
      " 90%|█████████ | 9/10 [10:28<01:09, 69.79s/it]"
     ]
    },
    {
     "name": "stdout",
     "output_type": "stream",
     "text": [
      "epoch:  9 accuracy:  0.7475728155339806\n"
     ]
    },
    {
     "name": "stderr",
     "output_type": "stream",
     "text": [
      "100%|██████████| 10/10 [11:39<00:00, 69.95s/it]"
     ]
    },
    {
     "name": "stdout",
     "output_type": "stream",
     "text": [
      "epoch:  10 accuracy:  0.757428655486908\n"
     ]
    },
    {
     "name": "stderr",
     "output_type": "stream",
     "text": [
      "\n"
     ]
    }
   ],
   "source": [
    "input_size = (sample_rate//hop_length + 1) * n_mfcc\n",
    "model = SimpleNeuralNet(input_size=input_size, hidden_size=256, num_classes=30).to(device)\n",
    "# Fonction de perte et optimiseur\n",
    "criterion = nn.CrossEntropyLoss()\n",
    "optimizer = torch.optim.Adam(model.parameters(), lr=0.001)\n",
    "\n",
    "# Paramètres pour la data augmentation\n",
    "parameters = {\n",
    "    \"time_shift\": [True, [0, 100]],  # Time shift perturbation\n",
    "    \"noise\": [True, [-90, -46]],  # Add white noise\n",
    "    \"time_mask\": [True, [0, 25]],  # Time masking\n",
    "    \"freq_mask\": [True, [0, 15]],  # Frequency masking\n",
    "}\n",
    "\n",
    "# Entraînement du modèle\n",
    "best_model = global_function(\n",
    "    model=model,\n",
    "    optimizer=optimizer,\n",
    "    criterion=criterion,\n",
    "    batch=256,\n",
    "    parameters=parameters,\n",
    "    augment=False,\n",
    "    num_epochs=10,\n",
    "    reshape=True,\n",
    ")"
   ]
  },
  {
   "cell_type": "code",
   "execution_count": 61,
   "metadata": {},
   "outputs": [
    {
     "name": "stderr",
     "output_type": "stream",
     "text": [
      "100%|██████████| 27/27 [00:08<00:00,  3.15it/s]\n"
     ]
    },
    {
     "name": "stdout",
     "output_type": "stream",
     "text": [
      "Test Accuracy:  0.7350402340892466\n",
      "Test Classification Report:\n",
      "              precision    recall  f1-score   support\n",
      "\n",
      "         bed       0.66      0.72      0.68       176\n",
      "        bird       0.74      0.80      0.77       158\n",
      "         cat       0.71      0.77      0.74       166\n",
      "         dog       0.59      0.69      0.64       180\n",
      "        down       0.72      0.66      0.68       253\n",
      "       eight       0.78      0.81      0.79       257\n",
      "        five       0.67      0.63      0.65       271\n",
      "        four       0.85      0.75      0.80       253\n",
      "          go       0.60      0.48      0.53       251\n",
      "       happy       0.88      0.88      0.88       180\n",
      "       house       0.86      0.84      0.85       150\n",
      "        left       0.64      0.76      0.69       267\n",
      "      marvin       0.75      0.75      0.75       162\n",
      "        nine       0.57      0.76      0.65       259\n",
      "          no       0.52      0.66      0.58       252\n",
      "         off       0.89      0.72      0.79       262\n",
      "          on       0.83      0.54      0.66       246\n",
      "         one       0.68      0.71      0.69       248\n",
      "       right       0.83      0.69      0.75       259\n",
      "       seven       0.92      0.76      0.83       239\n",
      "      sheila       0.91      0.89      0.90       186\n",
      "         six       0.85      0.86      0.86       244\n",
      "        stop       0.79      0.89      0.84       249\n",
      "       three       0.65      0.71      0.68       267\n",
      "        tree       0.74      0.62      0.67       193\n",
      "         two       0.77      0.77      0.77       264\n",
      "          up       0.58      0.70      0.63       272\n",
      "         wow       0.80      0.66      0.72       165\n",
      "         yes       0.89      0.84      0.87       256\n",
      "        zero       0.86      0.83      0.84       250\n",
      "\n",
      "    accuracy                           0.74      6835\n",
      "   macro avg       0.75      0.74      0.74      6835\n",
      "weighted avg       0.75      0.74      0.74      6835\n",
      "\n"
     ]
    },
    {
     "data": {
      "image/png": "[encoded data removed]",
      "text/plain": [
       "<Figure size 1000x1000 with 2 Axes>"
      ]
     },
     "metadata": {},
     "output_type": "display_data"
    }
   ],
   "source": [
    "# TEST DU MODELE\n",
    "# Extraction des features MFCC\n",
    "extract_mfcc_test = partial(extract_mfcc, parameters=parameters, augment=False, reshape=True)\n",
    "\n",
    "num_workers, pin_memory = (1, True) if device == \"cuda\" else (0, False)\n",
    "\n",
    "test_loader = DataLoader(\n",
    "    test_set,\n",
    "    batch_size=256,\n",
    "    shuffle=False,\n",
    "    drop_last=False,\n",
    "    collate_fn=extract_mfcc_test,\n",
    "    num_workers=num_workers,\n",
    "    pin_memory=pin_memory,\n",
    ")\n",
    "\n",
    "predictions, targets = test(best_model, test_loader)\n",
    "print(\"Test Accuracy: \", accuracy_score(targets, predictions))\n",
    "\n",
    "\n",
    "# Afficher les performances\n",
    "print(\"Test Classification Report:\")\n",
    "print(classification_report(targets, predictions, target_names=words))\n",
    "\n",
    "# Matrice de confusion\n",
    "cm = confusion_matrix(targets, predictions)\n",
    "plt.figure(figsize=(10, 10))\n",
    "plt.imshow(cm, interpolation=\"nearest\", cmap=plt.cm.Blues)\n",
    "plt.colorbar()\n",
    "plt.title(\"Confusion Matrix\")\n",
    "plt.xlabel(\"Predicted\")\n",
    "plt.ylabel(\"True\")\n",
    "plt.show()\n"
   ]
  },
  {
   "cell_type": "markdown",
   "metadata": {},
   "source": [
    "### Time shift "
   ]
  },
  {
   "cell_type": "code",
   "execution_count": 62,
   "metadata": {},
   "outputs": [
    {
     "name": "stderr",
     "output_type": "stream",
     "text": [
      " 10%|█         | 1/10 [01:52<16:49, 112.18s/it]"
     ]
    },
    {
     "name": "stdout",
     "output_type": "stream",
     "text": [
      "epoch:  1 accuracy:  0.6557811120917917\n"
     ]
    },
    {
     "name": "stderr",
     "output_type": "stream",
     "text": [
      " 20%|██        | 2/10 [03:45<15:03, 112.88s/it]"
     ]
    },
    {
     "name": "stdout",
     "output_type": "stream",
     "text": [
      "epoch:  2 accuracy:  0.7122683142100618\n"
     ]
    },
    {
     "name": "stderr",
     "output_type": "stream",
     "text": [
      " 30%|███       | 3/10 [05:36<13:04, 112.06s/it]"
     ]
    },
    {
     "name": "stdout",
     "output_type": "stream",
     "text": [
      "epoch:  3 accuracy:  0.7250661959399823\n"
     ]
    },
    {
     "name": "stderr",
     "output_type": "stream",
     "text": [
      " 40%|████      | 4/10 [07:28<11:12, 112.08s/it]"
     ]
    },
    {
     "name": "stdout",
     "output_type": "stream",
     "text": [
      "epoch:  4 accuracy:  0.754339511621065\n"
     ]
    },
    {
     "name": "stderr",
     "output_type": "stream",
     "text": [
      " 50%|█████     | 5/10 [09:21<09:21, 112.29s/it]"
     ]
    },
    {
     "name": "stdout",
     "output_type": "stream",
     "text": [
      "epoch:  5 accuracy:  0.754780817887614\n"
     ]
    },
    {
     "name": "stderr",
     "output_type": "stream",
     "text": [
      " 60%|██████    | 6/10 [11:12<07:27, 111.88s/it]"
     ]
    },
    {
     "name": "stdout",
     "output_type": "stream",
     "text": [
      "epoch:  6 accuracy:  0.7594880847308032\n"
     ]
    },
    {
     "name": "stderr",
     "output_type": "stream",
     "text": [
      " 70%|███████   | 7/10 [13:05<05:36, 112.15s/it]"
     ]
    },
    {
     "name": "stdout",
     "output_type": "stream",
     "text": [
      "epoch:  7 accuracy:  0.7612533097969991\n"
     ]
    },
    {
     "name": "stderr",
     "output_type": "stream",
     "text": [
      " 80%|████████  | 8/10 [14:57<03:44, 112.05s/it]"
     ]
    },
    {
     "name": "stdout",
     "output_type": "stream",
     "text": [
      "epoch:  8 accuracy:  0.7772874374816122\n"
     ]
    },
    {
     "name": "stderr",
     "output_type": "stream",
     "text": [
      " 90%|█████████ | 9/10 [16:46<01:51, 111.12s/it]"
     ]
    },
    {
     "name": "stdout",
     "output_type": "stream",
     "text": [
      "epoch:  9 accuracy:  0.7755222124154163\n"
     ]
    },
    {
     "name": "stderr",
     "output_type": "stream",
     "text": [
      "100%|██████████| 10/10 [18:36<00:00, 111.66s/it]"
     ]
    },
    {
     "name": "stdout",
     "output_type": "stream",
     "text": [
      "epoch:  10 accuracy:  0.7750809061488673\n"
     ]
    },
    {
     "name": "stderr",
     "output_type": "stream",
     "text": [
      "\n"
     ]
    }
   ],
   "source": [
    "parameters = {\n",
    "    \"time_shift\": [True, [-10, 10]],  # Time shift perturbation\n",
    "    \"noise\": [False, [-90, -46]],  # Add white noise\n",
    "    \"time_mask\": [False, [0, 25]],  # Time masking\n",
    "    \"freq_mask\": [False, [0, 15]],  # Frequency masking\n",
    "}\n",
    "model = SimpleNeuralNet(input_size=input_size, hidden_size=500, num_classes=30).to(device)\n",
    "criterion = nn.CrossEntropyLoss()\n",
    "optimizer = torch.optim.Adam(model.parameters(), lr=0.001)\n",
    "# Entraînement du modèle\n",
    "best_model_shift = global_function(\n",
    "    model=model,\n",
    "    optimizer=optimizer,\n",
    "    criterion=criterion,\n",
    "    batch=256,\n",
    "    parameters=parameters,\n",
    "    augment=True,\n",
    "    num_epochs=10,\n",
    "    augment_type=\"random\",\n",
    "    reshape=True,\n",
    ")\n"
   ]
  },
  {
   "cell_type": "code",
   "execution_count": 63,
   "metadata": {},
   "outputs": [
    {
     "name": "stderr",
     "output_type": "stream",
     "text": [
      "100%|██████████| 27/27 [00:08<00:00,  3.33it/s]"
     ]
    },
    {
     "name": "stdout",
     "output_type": "stream",
     "text": [
      "Test Accuracy:  0.7612289685442575\n"
     ]
    },
    {
     "name": "stderr",
     "output_type": "stream",
     "text": [
      "\n"
     ]
    }
   ],
   "source": [
    "predictions_shift, targets_shift = test(best_model_shift, test_loader)\n",
    "print(\"Test Accuracy: \", accuracy_score(targets_shift, predictions_shift))\n"
   ]
  },
  {
   "cell_type": "markdown",
   "metadata": {},
   "source": [
    "### TIME_MASKING"
   ]
  },
  {
   "cell_type": "code",
   "execution_count": 66,
   "metadata": {},
   "outputs": [
    {
     "name": "stderr",
     "output_type": "stream",
     "text": [
      "  0%|          | 0/10 [00:00<?, ?it/s]"
     ]
    },
    {
     "name": "stderr",
     "output_type": "stream",
     "text": [
      " 10%|█         | 1/10 [03:20<30:04, 200.46s/it]"
     ]
    },
    {
     "name": "stdout",
     "output_type": "stream",
     "text": [
      "epoch:  1 accuracy:  0.6478375992939099\n"
     ]
    },
    {
     "name": "stderr",
     "output_type": "stream",
     "text": [
      " 20%|██        | 2/10 [05:19<20:20, 152.58s/it]"
     ]
    },
    {
     "name": "stdout",
     "output_type": "stream",
     "text": [
      "epoch:  2 accuracy:  0.7215357458075905\n"
     ]
    },
    {
     "name": "stderr",
     "output_type": "stream",
     "text": [
      " 30%|███       | 3/10 [07:19<16:02, 137.52s/it]"
     ]
    },
    {
     "name": "stdout",
     "output_type": "stream",
     "text": [
      "epoch:  3 accuracy:  0.7481612238893792\n"
     ]
    },
    {
     "name": "stderr",
     "output_type": "stream",
     "text": [
      " 40%|████      | 4/10 [09:19<13:04, 130.74s/it]"
     ]
    },
    {
     "name": "stdout",
     "output_type": "stream",
     "text": [
      "epoch:  4 accuracy:  0.744777875845837\n"
     ]
    },
    {
     "name": "stderr",
     "output_type": "stream",
     "text": [
      " 50%|█████     | 5/10 [11:16<10:29, 125.89s/it]"
     ]
    },
    {
     "name": "stdout",
     "output_type": "stream",
     "text": [
      "epoch:  5 accuracy:  0.7480141218005296\n"
     ]
    },
    {
     "name": "stderr",
     "output_type": "stream",
     "text": [
      " 60%|██████    | 6/10 [13:13<08:11, 122.86s/it]"
     ]
    },
    {
     "name": "stdout",
     "output_type": "stream",
     "text": [
      "epoch:  6 accuracy:  0.764342453662842\n"
     ]
    },
    {
     "name": "stderr",
     "output_type": "stream",
     "text": [
      " 70%|███████   | 7/10 [15:13<06:05, 121.72s/it]"
     ]
    },
    {
     "name": "stdout",
     "output_type": "stream",
     "text": [
      "epoch:  7 accuracy:  0.7628714327743454\n"
     ]
    },
    {
     "name": "stderr",
     "output_type": "stream",
     "text": [
      " 80%|████████  | 8/10 [17:12<04:02, 121.03s/it]"
     ]
    },
    {
     "name": "stdout",
     "output_type": "stream",
     "text": [
      "epoch:  8 accuracy:  0.7606649014416005\n"
     ]
    },
    {
     "name": "stderr",
     "output_type": "stream",
     "text": [
      " 90%|█████████ | 9/10 [19:10<02:00, 120.17s/it]"
     ]
    },
    {
     "name": "stdout",
     "output_type": "stream",
     "text": [
      "epoch:  9 accuracy:  0.7693439246837305\n"
     ]
    },
    {
     "name": "stderr",
     "output_type": "stream",
     "text": [
      "100%|██████████| 10/10 [21:09<00:00, 126.91s/it]"
     ]
    },
    {
     "name": "stdout",
     "output_type": "stream",
     "text": [
      "epoch:  10 accuracy:  0.7616946160635482\n"
     ]
    },
    {
     "name": "stderr",
     "output_type": "stream",
     "text": [
      "\n"
     ]
    }
   ],
   "source": [
    "parameters = {\n",
    "    \"time_shift\": [False, [-10, 10]],  # Time shift perturbation\n",
    "    \"noise\": [False, [-90, -46]],  # Add white noise\n",
    "    \"time_mask\": [True, [0, 25]],  # Time masking\n",
    "    \"freq_mask\": [False, [0, 15]],  # Frequency masking\n",
    "}\n",
    "model = SimpleNeuralNet(input_size=input_size, hidden_size=500, num_classes=30).to(device)\n",
    "criterion = nn.CrossEntropyLoss()\n",
    "optimizer = torch.optim.Adam(model.parameters(), lr=0.001)\n",
    "# Entraînement du modèle\n",
    "best_model_TM = global_function(\n",
    "    model=model,\n",
    "    optimizer=optimizer,\n",
    "    criterion=criterion,\n",
    "    batch=256,\n",
    "    parameters=parameters,\n",
    "    augment=True,\n",
    "    num_epochs=10,\n",
    "    augment_type=\"random\",\n",
    "    reshape=True,\n",
    ")\n"
   ]
  },
  {
   "cell_type": "code",
   "execution_count": 67,
   "metadata": {},
   "outputs": [
    {
     "name": "stderr",
     "output_type": "stream",
     "text": [
      "100%|██████████| 27/27 [00:38<00:00,  1.43s/it]"
     ]
    },
    {
     "name": "stdout",
     "output_type": "stream",
     "text": [
      "Test Accuracy:  0.7489392831016826\n"
     ]
    },
    {
     "name": "stderr",
     "output_type": "stream",
     "text": [
      "\n"
     ]
    }
   ],
   "source": [
    "predictions_TM, targets_TM = test(best_model_TM, test_loader)\n",
    "print(\"Test Accuracy: \", accuracy_score(targets_TM, predictions_TM))"
   ]
  },
  {
   "cell_type": "markdown",
   "metadata": {},
   "source": [
    "### FREQUENCY_MASKING"
   ]
  },
  {
   "cell_type": "code",
   "execution_count": 68,
   "metadata": {},
   "outputs": [
    {
     "name": "stderr",
     "output_type": "stream",
     "text": [
      " 10%|█         | 1/10 [01:59<17:55, 119.55s/it]"
     ]
    },
    {
     "name": "stdout",
     "output_type": "stream",
     "text": [
      "epoch:  1 accuracy:  0.6425419240953222\n"
     ]
    },
    {
     "name": "stderr",
     "output_type": "stream",
     "text": [
      " 20%|██        | 2/10 [04:00<16:04, 120.56s/it]"
     ]
    },
    {
     "name": "stdout",
     "output_type": "stream",
     "text": [
      "epoch:  2 accuracy:  0.7077081494557222\n"
     ]
    },
    {
     "name": "stderr",
     "output_type": "stream",
     "text": [
      " 30%|███       | 3/10 [06:01<14:04, 120.62s/it]"
     ]
    },
    {
     "name": "stdout",
     "output_type": "stream",
     "text": [
      "epoch:  3 accuracy:  0.7377169755810532\n"
     ]
    },
    {
     "name": "stderr",
     "output_type": "stream",
     "text": [
      " 40%|████      | 4/10 [08:03<12:07, 121.20s/it]"
     ]
    },
    {
     "name": "stdout",
     "output_type": "stream",
     "text": [
      "epoch:  4 accuracy:  0.7559576345984113\n"
     ]
    },
    {
     "name": "stderr",
     "output_type": "stream",
     "text": [
      " 50%|█████     | 5/10 [10:06<10:08, 121.73s/it]"
     ]
    },
    {
     "name": "stdout",
     "output_type": "stream",
     "text": [
      "epoch:  5 accuracy:  0.7594880847308032\n"
     ]
    },
    {
     "name": "stderr",
     "output_type": "stream",
     "text": [
      " 60%|██████    | 6/10 [12:07<08:06, 121.51s/it]"
     ]
    },
    {
     "name": "stdout",
     "output_type": "stream",
     "text": [
      "epoch:  6 accuracy:  0.7530155928214181\n"
     ]
    },
    {
     "name": "stderr",
     "output_type": "stream",
     "text": [
      " 70%|███████   | 7/10 [14:05<06:01, 120.44s/it]"
     ]
    },
    {
     "name": "stdout",
     "output_type": "stream",
     "text": [
      "epoch:  7 accuracy:  0.7616946160635482\n"
     ]
    },
    {
     "name": "stderr",
     "output_type": "stream",
     "text": [
      " 80%|████████  | 8/10 [16:06<04:01, 120.51s/it]"
     ]
    },
    {
     "name": "stdout",
     "output_type": "stream",
     "text": [
      "epoch:  8 accuracy:  0.7549279199764637\n"
     ]
    },
    {
     "name": "stderr",
     "output_type": "stream",
     "text": [
      " 90%|█████████ | 9/10 [18:06<02:00, 120.48s/it]"
     ]
    },
    {
     "name": "stdout",
     "output_type": "stream",
     "text": [
      "epoch:  9 accuracy:  0.7684613121506325\n"
     ]
    },
    {
     "name": "stderr",
     "output_type": "stream",
     "text": [
      "100%|██████████| 10/10 [20:06<00:00, 120.63s/it]"
     ]
    },
    {
     "name": "stdout",
     "output_type": "stream",
     "text": [
      "epoch:  10 accuracy:  0.7624301265077964\n"
     ]
    },
    {
     "name": "stderr",
     "output_type": "stream",
     "text": [
      "\n"
     ]
    }
   ],
   "source": [
    "parameters = {\n",
    "    \"time_shift\": [False, [-10, 10]],  # Time shift perturbation\n",
    "    \"noise\": [False, [-90, -46]],  # Add white noise\n",
    "    \"time_mask\": [False, [0, 25]],  # Time masking\n",
    "    \"freq_mask\": [True, [0, 15]],  # Frequency masking\n",
    "}\n",
    "model = SimpleNeuralNet(input_size=input_size, hidden_size=500, num_classes=30).to(device)\n",
    "criterion = nn.CrossEntropyLoss()\n",
    "optimizer = torch.optim.Adam(model.parameters(), lr=0.001)\n",
    "# Entraînement du modèle\n",
    "best_model_FM = global_function(\n",
    "    model=model,\n",
    "    optimizer=optimizer,\n",
    "    criterion=criterion,\n",
    "    batch=256,\n",
    "    parameters=parameters,\n",
    "    augment=True,\n",
    "    num_epochs=10,\n",
    "    augment_type=\"random\",\n",
    "    reshape=True,\n",
    ")\n"
   ]
  },
  {
   "cell_type": "code",
   "execution_count": 69,
   "metadata": {},
   "outputs": [
    {
     "name": "stderr",
     "output_type": "stream",
     "text": [
      "100%|██████████| 27/27 [00:08<00:00,  3.25it/s]"
     ]
    },
    {
     "name": "stdout",
     "output_type": "stream",
     "text": [
      "Test Accuracy:  0.7442574981711778\n"
     ]
    },
    {
     "name": "stderr",
     "output_type": "stream",
     "text": [
      "\n"
     ]
    }
   ],
   "source": [
    "predictions_FM, targets_FM = test(best_model_FM, test_loader)\n",
    "print(\"Test Accuracy: \", accuracy_score(targets_FM, predictions_FM))"
   ]
  },
  {
   "cell_type": "markdown",
   "metadata": {},
   "source": [
    "### FREQUENCY_MASKING, TIME_MASKING, TIME_SHIFT"
   ]
  },
  {
   "cell_type": "code",
   "execution_count": 71,
   "metadata": {},
   "outputs": [
    {
     "name": "stderr",
     "output_type": "stream",
     "text": [
      " 10%|█         | 1/10 [02:10<19:37, 130.84s/it]"
     ]
    },
    {
     "name": "stdout",
     "output_type": "stream",
     "text": [
      "epoch:  1 accuracy:  0.6145925272138865\n"
     ]
    },
    {
     "name": "stderr",
     "output_type": "stream",
     "text": [
      " 20%|██        | 2/10 [04:58<20:19, 152.46s/it]"
     ]
    },
    {
     "name": "stdout",
     "output_type": "stream",
     "text": [
      "epoch:  2 accuracy:  0.7035892909679318\n"
     ]
    },
    {
     "name": "stderr",
     "output_type": "stream",
     "text": [
      " 30%|███       | 3/10 [07:46<18:38, 159.75s/it]"
     ]
    },
    {
     "name": "stdout",
     "output_type": "stream",
     "text": [
      "epoch:  3 accuracy:  0.7411003236245954\n"
     ]
    },
    {
     "name": "stderr",
     "output_type": "stream",
     "text": [
      " 40%|████      | 4/10 [10:01<14:59, 149.89s/it]"
     ]
    },
    {
     "name": "stdout",
     "output_type": "stream",
     "text": [
      "epoch:  4 accuracy:  0.7469844071785819\n"
     ]
    },
    {
     "name": "stderr",
     "output_type": "stream",
     "text": [
      " 50%|█████     | 5/10 [12:15<12:01, 144.21s/it]"
     ]
    },
    {
     "name": "stdout",
     "output_type": "stream",
     "text": [
      "epoch:  5 accuracy:  0.754339511621065\n"
     ]
    },
    {
     "name": "stderr",
     "output_type": "stream",
     "text": [
      " 60%|██████    | 6/10 [14:33<09:28, 142.04s/it]"
     ]
    },
    {
     "name": "stdout",
     "output_type": "stream",
     "text": [
      "epoch:  6 accuracy:  0.7522800823771697\n"
     ]
    },
    {
     "name": "stderr",
     "output_type": "stream",
     "text": [
      " 70%|███████   | 7/10 [16:49<06:59, 139.96s/it]"
     ]
    },
    {
     "name": "stdout",
     "output_type": "stream",
     "text": [
      "epoch:  7 accuracy:  0.7691968225948809\n"
     ]
    },
    {
     "name": "stderr",
     "output_type": "stream",
     "text": [
      " 80%|████████  | 8/10 [18:59<04:33, 136.93s/it]"
     ]
    },
    {
     "name": "stdout",
     "output_type": "stream",
     "text": [
      "epoch:  8 accuracy:  0.7689026184171815\n"
     ]
    },
    {
     "name": "stderr",
     "output_type": "stream",
     "text": [
      " 90%|█████████ | 9/10 [21:45<02:25, 145.95s/it]"
     ]
    },
    {
     "name": "stdout",
     "output_type": "stream",
     "text": [
      "epoch:  9 accuracy:  0.7621359223300971\n"
     ]
    },
    {
     "name": "stderr",
     "output_type": "stream",
     "text": [
      "100%|██████████| 10/10 [24:00<00:00, 144.01s/it]"
     ]
    },
    {
     "name": "stdout",
     "output_type": "stream",
     "text": [
      "epoch:  10 accuracy:  0.7603706972639012\n"
     ]
    },
    {
     "name": "stderr",
     "output_type": "stream",
     "text": [
      "\n"
     ]
    }
   ],
   "source": [
    "parameters = {\n",
    "    \"time_shift\": [True, [-10, 10]],  # Time shift perturbation\n",
    "    \"noise\": [False, [-90, -46]],  # Add white noise\n",
    "    \"time_mask\": [True, [0, 25]],  # Time masking\n",
    "    \"freq_mask\": [True, [0, 15]],  # Frequency masking\n",
    "}\n",
    "model = SimpleNeuralNet(input_size=input_size, hidden_size=500, num_classes=30).to(device)\n",
    "criterion = nn.CrossEntropyLoss()\n",
    "optimizer = torch.optim.Adam(model.parameters(), lr=0.001)\n",
    "# Entraînement du modèle\n",
    "best_model_TFM = global_function(\n",
    "    model=model,\n",
    "    optimizer=optimizer,\n",
    "    criterion=criterion,\n",
    "    batch=256,\n",
    "    parameters=parameters,\n",
    "    augment=True,\n",
    "    num_epochs=10,\n",
    "    augment_type=\"random\",\n",
    "    reshape=True,\n",
    ")\n"
   ]
  },
  {
   "cell_type": "code",
   "execution_count": 72,
   "metadata": {},
   "outputs": [
    {
     "name": "stderr",
     "output_type": "stream",
     "text": [
      "100%|██████████| 27/27 [00:08<00:00,  3.19it/s]"
     ]
    },
    {
     "name": "stdout",
     "output_type": "stream",
     "text": [
      "Test Accuracy:  0.7487929773226042\n"
     ]
    },
    {
     "name": "stderr",
     "output_type": "stream",
     "text": [
      "\n"
     ]
    }
   ],
   "source": [
    "predictions_TFM, targets_TFM = test(best_model_TFM, test_loader)\n",
    "print(\"Test Accuracy: \", accuracy_score(targets_TFM, predictions_TFM))"
   ]
  },
  {
   "cell_type": "markdown",
   "metadata": {},
   "source": [
    "# Implementation CNN"
   ]
  },
  {
   "attachments": {
    "image.png": {
     "image/png": "[encoded data removed]"
    }
   },
   "cell_type": "markdown",
   "metadata": {},
   "source": [
    "![image.png](attachment:image.png)"
   ]
  },
  {
   "cell_type": "code",
   "execution_count": 11,
   "metadata": {},
   "outputs": [],
   "source": [
    "class MFCC_CNN(nn.Module):\n",
    "    def __init__(self, num_classes=30):\n",
    "        super(MFCC_CNN, self).__init__()\n",
    "        self.conv1 = nn.Conv2d(in_channels=1, out_channels=128, kernel_size=7, padding=1)\n",
    "        self.bn1 = nn.BatchNorm2d(128)\n",
    "        self.maxpool = nn.MaxPool2d(kernel_size=(1, 3), stride=(1, 3))\n",
    "        self.conv2 = nn.Conv2d(in_channels=128, out_channels=64, kernel_size=7, padding=1)\n",
    "        self.bn2 = nn.BatchNorm2d(64)\n",
    "        self.fc1 = None\n",
    "        self.fc2 = nn.Linear(in_features=500, out_features=500)\n",
    "        self.fc3 = nn.Linear(in_features=500, out_features=num_classes)\n",
    "\n",
    "    def forward(self, x):\n",
    "        x = self.maxpool(torch.relu(self.bn1(self.conv1(x))))\n",
    "        x = self.maxpool(torch.relu(self.bn2(self.conv2(x))))\n",
    "        if self.fc1 is None:\n",
    "            num_features_after_conv = x.shape[1] * x.shape[2] * x.shape[3]\n",
    "            self.fc1 = nn.Linear(in_features=num_features_after_conv, out_features=500).to(x.device)\n",
    "        x = x.view(x.size(0), -1)\n",
    "        x = torch.relu(self.fc1(x))\n",
    "        x = torch.relu(self.fc2(x))\n",
    "        x = self.fc3(x)\n",
    "        return x"
   ]
  },
  {
   "cell_type": "code",
   "execution_count": 67,
   "metadata": {},
   "outputs": [],
   "source": [
    "class MFCC_CNN(nn.Module):\n",
    "    def __init__(self, num_classes=30):\n",
    "        super(MFCC_CNN, self).__init__()\n",
    "        self.conv1 = nn.Conv2d(in_channels=1, out_channels=128, kernel_size=7, padding=1)\n",
    "        self.maxpool = nn.MaxPool2d(kernel_size=(1, 3), stride=(1, 3))\n",
    "        self.conv2 = nn.Conv2d(in_channels=128, out_channels=64, kernel_size=7, padding=1)\n",
    "        self.fc1 = None\n",
    "        self.fc2 = nn.Linear(in_features=500, out_features=500)\n",
    "        self.fc3 = nn.Linear(in_features=500, out_features=num_classes)\n",
    "\n",
    "    def forward(self, x):\n",
    "        x = torch.relu(self.conv1(x))\n",
    "        x = self.maxpool(x)\n",
    "        x = torch.relu(self.conv2(x))\n",
    "        x = self.maxpool(x)\n",
    "        if self.fc1 is None:\n",
    "            num_features_after_conv = x.shape[1] * x.shape[2] * x.shape[3]\n",
    "            self.fc1 = nn.Linear(in_features=num_features_after_conv, out_features=500).to(x.device)\n",
    "        x = x.view(x.size(0), -1)\n",
    "        x = torch.relu(self.fc1(x))\n",
    "        x = torch.relu(self.fc2(x))\n",
    "        x = self.fc3(x)\n",
    "        return x"
   ]
  },
  {
   "cell_type": "code",
   "execution_count": 13,
   "metadata": {},
   "outputs": [
    {
     "name": "stderr",
     "output_type": "stream",
     "text": [
      "  0%|          | 0/10 [00:00<?, ?it/s]"
     ]
    },
    {
     "name": "stderr",
     "output_type": "stream",
     "text": [
      " 10%|█         | 1/10 [05:50<52:31, 350.14s/it]"
     ]
    },
    {
     "name": "stdout",
     "output_type": "stream",
     "text": [
      "epoch:  1 accuracy:  0.8399529273315681\n"
     ]
    },
    {
     "name": "stderr",
     "output_type": "stream",
     "text": [
      " 20%|██        | 2/10 [07:14<25:50, 193.82s/it]"
     ]
    },
    {
     "name": "stdout",
     "output_type": "stream",
     "text": [
      "epoch:  2 accuracy:  0.8445130920859076\n"
     ]
    },
    {
     "name": "stderr",
     "output_type": "stream",
     "text": [
      " 30%|███       | 3/10 [08:36<16:38, 142.60s/it]"
     ]
    },
    {
     "name": "stdout",
     "output_type": "stream",
     "text": [
      "epoch:  3 accuracy:  0.8724624889673434\n"
     ]
    },
    {
     "name": "stderr",
     "output_type": "stream",
     "text": [
      " 40%|████      | 4/10 [10:07<12:14, 122.36s/it]"
     ]
    },
    {
     "name": "stdout",
     "output_type": "stream",
     "text": [
      "epoch:  4 accuracy:  0.8932038834951457\n"
     ]
    },
    {
     "name": "stderr",
     "output_type": "stream",
     "text": [
      " 50%|█████     | 5/10 [11:35<09:10, 110.05s/it]"
     ]
    },
    {
     "name": "stdout",
     "output_type": "stream",
     "text": [
      "epoch:  5 accuracy:  0.8857016769638129\n"
     ]
    },
    {
     "name": "stderr",
     "output_type": "stream",
     "text": [
      " 60%|██████    | 6/10 [12:59<06:43, 101.00s/it]"
     ]
    },
    {
     "name": "stdout",
     "output_type": "stream",
     "text": [
      "epoch:  6 accuracy:  0.8674610179464548\n"
     ]
    },
    {
     "name": "stderr",
     "output_type": "stream",
     "text": [
      " 70%|███████   | 7/10 [14:13<04:36, 92.20s/it] "
     ]
    },
    {
     "name": "stdout",
     "output_type": "stream",
     "text": [
      "epoch:  7 accuracy:  0.8876140041188585\n"
     ]
    },
    {
     "name": "stderr",
     "output_type": "stream",
     "text": [
      " 80%|████████  | 8/10 [15:27<02:52, 86.44s/it]"
     ]
    },
    {
     "name": "stdout",
     "output_type": "stream",
     "text": [
      "epoch:  8 accuracy:  0.8737864077669902\n"
     ]
    },
    {
     "name": "stderr",
     "output_type": "stream",
     "text": [
      " 90%|█████████ | 9/10 [16:42<01:22, 82.88s/it]"
     ]
    },
    {
     "name": "stdout",
     "output_type": "stream",
     "text": [
      "epoch:  9 accuracy:  0.8859958811415122\n"
     ]
    },
    {
     "name": "stderr",
     "output_type": "stream",
     "text": [
      "100%|██████████| 10/10 [18:01<00:00, 108.17s/it]"
     ]
    },
    {
     "name": "stdout",
     "output_type": "stream",
     "text": [
      "epoch:  10 accuracy:  0.8718740806119447\n"
     ]
    },
    {
     "name": "stderr",
     "output_type": "stream",
     "text": [
      "\n"
     ]
    }
   ],
   "source": [
    "# Paramètres pour la data augmentation\n",
    "parameters = {\n",
    "    \"time_shift\": [True, [0, 100]],  # Time shift perturbation\n",
    "    \"noise\": [False, [-90, -46]],  # Add white noise\n",
    "    \"time_mask\": [False, [0, 25]],  # Time masking\n",
    "    \"freq_mask\": [False, [0, 15]],  # Frequency masking\n",
    "}\n",
    "\n",
    "model = MFCC_CNN(num_classes=30).to(device)\n",
    "\n",
    "criterion = nn.CrossEntropyLoss()\n",
    "\n",
    "optimizer = torch.optim.Adam(model.parameters(), lr=1e-3)\n",
    "\n",
    "# Entraînement du modèle\n",
    "best_model_cnn = global_function(\n",
    "    model=model,\n",
    "    optimizer=optimizer,\n",
    "    criterion=criterion,\n",
    "    batch=256,\n",
    "    parameters=parameters,\n",
    "    augment=False,\n",
    "    augment_type=\"random\",\n",
    "    num_epochs=10,\n",
    ")"
   ]
  },
  {
   "cell_type": "code",
   "execution_count": 21,
   "metadata": {},
   "outputs": [
    {
     "name": "stderr",
     "output_type": "stream",
     "text": [
      "100%|██████████| 27/27 [00:09<00:00,  2.90it/s]"
     ]
    },
    {
     "name": "stdout",
     "output_type": "stream",
     "text": [
      "Test Accuracy:  0.8857351865398684\n"
     ]
    },
    {
     "name": "stderr",
     "output_type": "stream",
     "text": [
      "\n"
     ]
    }
   ],
   "source": [
    "extract_mfcc_cnn = partial(extract_mfcc, parameters=parameters, augment=False)\n",
    "num_workers, pin_memory = (1, True) if device == \"cuda\" else (0, False)\n",
    "test_loader = DataLoader(\n",
    "    test_set,\n",
    "    batch_size=256,\n",
    "    shuffle=False,\n",
    "    drop_last=False,\n",
    "    collate_fn=extract_mfcc_cnn,\n",
    "    num_workers=num_workers,\n",
    "    pin_memory=pin_memory,\n",
    ")\n",
    "\n",
    "predictions_cnn, targets_cnn = test(best_model_cnn, test_loader)\n",
    "print(\"Test Accuracy: \", accuracy_score(targets_cnn, predictions_cnn))"
   ]
  },
  {
   "cell_type": "markdown",
   "metadata": {},
   "source": [
    "### Time shift"
   ]
  },
  {
   "cell_type": "code",
   "execution_count": 22,
   "metadata": {},
   "outputs": [
    {
     "name": "stderr",
     "output_type": "stream",
     "text": [
      " 10%|█         | 1/10 [02:03<18:28, 123.18s/it]"
     ]
    },
    {
     "name": "stdout",
     "output_type": "stream",
     "text": [
      "epoch:  1 accuracy:  0.8245072080023537\n"
     ]
    },
    {
     "name": "stderr",
     "output_type": "stream",
     "text": [
      " 20%|██        | 2/10 [04:10<16:44, 125.50s/it]"
     ]
    },
    {
     "name": "stdout",
     "output_type": "stream",
     "text": [
      "epoch:  2 accuracy:  0.853486319505737\n"
     ]
    },
    {
     "name": "stderr",
     "output_type": "stream",
     "text": [
      " 30%|███       | 3/10 [06:14<14:35, 125.06s/it]"
     ]
    },
    {
     "name": "stdout",
     "output_type": "stream",
     "text": [
      "epoch:  3 accuracy:  0.8857016769638129\n"
     ]
    },
    {
     "name": "stderr",
     "output_type": "stream",
     "text": [
      " 40%|████      | 4/10 [08:20<12:30, 125.14s/it]"
     ]
    },
    {
     "name": "stdout",
     "output_type": "stream",
     "text": [
      "epoch:  4 accuracy:  0.8864371874080612\n"
     ]
    },
    {
     "name": "stderr",
     "output_type": "stream",
     "text": [
      " 50%|█████     | 5/10 [10:20<10:16, 123.29s/it]"
     ]
    },
    {
     "name": "stdout",
     "output_type": "stream",
     "text": [
      "epoch:  5 accuracy:  0.8620182406590173\n"
     ]
    },
    {
     "name": "stderr",
     "output_type": "stream",
     "text": [
      " 60%|██████    | 6/10 [12:22<08:12, 123.04s/it]"
     ]
    },
    {
     "name": "stdout",
     "output_type": "stream",
     "text": [
      "epoch:  6 accuracy:  0.883053839364519\n"
     ]
    },
    {
     "name": "stderr",
     "output_type": "stream",
     "text": [
      " 70%|███████   | 7/10 [14:23<06:06, 122.16s/it]"
     ]
    },
    {
     "name": "stdout",
     "output_type": "stream",
     "text": [
      "epoch:  7 accuracy:  0.8818770226537217\n"
     ]
    },
    {
     "name": "stderr",
     "output_type": "stream",
     "text": [
      " 80%|████████  | 8/10 [16:24<04:03, 121.84s/it]"
     ]
    },
    {
     "name": "stdout",
     "output_type": "stream",
     "text": [
      "epoch:  8 accuracy:  0.8868784936746101\n"
     ]
    },
    {
     "name": "stderr",
     "output_type": "stream",
     "text": [
      " 90%|█████████ | 9/10 [18:29<02:02, 122.97s/it]"
     ]
    },
    {
     "name": "stdout",
     "output_type": "stream",
     "text": [
      "epoch:  9 accuracy:  0.8758458370108856\n"
     ]
    },
    {
     "name": "stderr",
     "output_type": "stream",
     "text": [
      "100%|██████████| 10/10 [20:38<00:00, 123.89s/it]"
     ]
    },
    {
     "name": "stdout",
     "output_type": "stream",
     "text": [
      "epoch:  10 accuracy:  0.8914386584289496\n"
     ]
    },
    {
     "name": "stderr",
     "output_type": "stream",
     "text": [
      "\n"
     ]
    }
   ],
   "source": [
    "# Paramètres pour la data augmentation\n",
    "parameters = {\n",
    "    \"time_shift\": [True, [-10, 10]],  # Time shift perturbation\n",
    "    \"noise\": [False, [-90, -46]],  # Add white noise\n",
    "    \"time_mask\": [False, [0, 25]],  # Time masking\n",
    "    \"freq_mask\": [False, [0, 15]],  # Frequency masking\n",
    "}\n",
    "\n",
    "model = MFCC_CNN(num_classes=30).to(device)\n",
    "\n",
    "criterion = nn.CrossEntropyLoss()\n",
    "\n",
    "optimizer = torch.optim.Adam(model.parameters(), lr=1e-3)\n",
    "\n",
    "# Entraînement du modèle\n",
    "best_model_cnn_TS = global_function(\n",
    "    model=model,\n",
    "    optimizer=optimizer,\n",
    "    criterion=criterion,\n",
    "    batch=256,\n",
    "    parameters=parameters,\n",
    "    augment=True,\n",
    "    augment_type=\"random\",\n",
    "    num_epochs=10,\n",
    ")"
   ]
  },
  {
   "cell_type": "code",
   "execution_count": 23,
   "metadata": {},
   "outputs": [
    {
     "name": "stderr",
     "output_type": "stream",
     "text": [
      "100%|██████████| 27/27 [00:13<00:00,  1.99it/s]"
     ]
    },
    {
     "name": "stdout",
     "output_type": "stream",
     "text": [
      "Test Accuracy:  0.885003657644477\n"
     ]
    },
    {
     "name": "stderr",
     "output_type": "stream",
     "text": [
      "\n"
     ]
    }
   ],
   "source": [
    "predictions_cnn_TS, targets_cnn = test(best_model_cnn_TS, test_loader)\n",
    "print(\"Test Accuracy: \", accuracy_score(targets_cnn, predictions_cnn_TS))"
   ]
  },
  {
   "cell_type": "code",
   "execution_count": null,
   "metadata": {},
   "outputs": [],
   "source": [
    "# Paramètres pour la data augmentation\n",
    "parameters = {\n",
    "    \"time_shift\": [False, [-10, 10]],  # Time shift perturbation\n",
    "    \"noise\": [False, [-90, -46]],  # Add white noise\n",
    "    \"time_mask\": [False, [0, 25]],  # Time masking\n",
    "    \"freq_mask\": [False, [0, 15]],  # Frequency masking\n",
    "}\n",
    "\n",
    "model = MFCC_CNN(num_classes=30).to(device)\n",
    "\n",
    "criterion = nn.CrossEntropyLoss()\n",
    "\n",
    "optimizer = torch.optim.Adam(model.parameters(), lr=1e-3)\n",
    "\n",
    "# Entraînement du modèle\n",
    "best_model_cnn_TS = global_function(\n",
    "    model=model,\n",
    "    optimizer=optimizer,\n",
    "    criterion=criterion,\n",
    "    batch=256,\n",
    "    parameters=parameters,\n",
    "    augment=True,\n",
    "    augment_type=\"random\",\n",
    "    num_epochs=10,\n",
    ")"
   ]
  },
  {
   "cell_type": "markdown",
   "metadata": {},
   "source": [
    "#### Il faut continuer les tests ..."
   ]
  },
  {
   "cell_type": "markdown",
   "metadata": {},
   "source": []
  }
 ],
 "metadata": {
  "kernelspec": {
   "display_name": "base",
   "language": "python",
   "name": "python3"
  },
  "language_info": {
   "codemirror_mode": {
    "name": "ipython",
    "version": 3
   },
   "file_extension": ".py",
   "mimetype": "text/x-python",
   "name": "python",
   "nbconvert_exporter": "python",
   "pygments_lexer": "ipython3",
   "version": "3.11.4"
  }
 },
 "nbformat": 4,
 "nbformat_minor": 2
}
